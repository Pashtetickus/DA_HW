{
 "cells": [
  {
   "cell_type": "markdown",
   "id": "dcaad2f8-3ed3-408b-8dbf-d3693655332c",
   "metadata": {
    "tags": []
   },
   "source": [
    "Семинар 5 (неделя 6): Точные доверительные интервалы\n",
    "=====\n",
    "\n",
    "- [Домашнее задание](#HW)"
   ]
  },
  {
   "cell_type": "code",
   "execution_count": 9,
   "id": "8cb274b5-d2d3-4a2f-8018-69ddba6ea267",
   "metadata": {},
   "outputs": [],
   "source": [
    "# Импорт библиотек для работы со статистикой\n",
    "import numpy as np\n",
    "import pandas as pd\n",
    "import scipy.stats as sts\n",
    "\n",
    "# Импорт библиотек для построения графиков\n",
    "import matplotlib.pyplot as plt\n",
    "import seaborn as sns\n",
    "\n",
    "# Стиль для графиков\n",
    "plt.style.use('ggplot')\n",
    "%matplotlib inline"
   ]
  },
  {
   "cell_type": "code",
   "execution_count": 10,
   "id": "fc954199-569c-4332-8d57-b5dc72e4fa76",
   "metadata": {},
   "outputs": [],
   "source": [
    "# Функция, которая строит 100(1 - alpha)% асимптотически-нормальный доверительный интервал\n",
    "\n",
    "def norm_conf_int(alpha, mean_hat, std_hat, margin=5):\n",
    "    \n",
    "    plt.figure(figsize=(10,5))\n",
    "    xs = np.linspace(mean_hat - margin, mean_hat + margin)\n",
    "    pdf = sts.norm(mean_hat, std_hat).pdf(xs)\n",
    "\n",
    "    plt.plot(xs, pdf)\n",
    "    plt.ylabel('$f(x)$', fontsize=18)\n",
    "    plt.xlabel('$x$', fontsize=18)\n",
    "\n",
    "    left, right = sts.norm.interval(1 - alpha, loc=mean_hat, scale=std_hat)\n",
    "    \n",
    "    for i in [left, right]: \n",
    "        y_max = plt.ylim()[1]\n",
    "        plt.axvline(i, color=\"blue\", linestyle='dashed', lw=2)\n",
    "        \n",
    "        if i == left:\n",
    "            xq = np.linspace(mean_hat - margin, left)\n",
    "        else:\n",
    "            xq = np.linspace(right, mean_hat + margin)\n",
    "        \n",
    "        text_margin = 0.05\n",
    "        plt.text(i + text_margin, 0.8*y_max, round(i, 2), color=\"blue\", fontsize=14)\n",
    "        yq = sts.norm(mean_hat, std_hat).pdf(xq)\n",
    "        plt.fill_between(xq, 0, yq, color='blue', alpha=0.3)\n",
    "\n",
    "    return left, right"
   ]
  },
  {
   "cell_type": "code",
   "execution_count": 11,
   "id": "cedf9060-134f-4b8b-a698-89afe7bd034e",
   "metadata": {},
   "outputs": [
    {
     "data": {
      "image/png": "[encoded data removed]",
      "text/plain": [
       "<Figure size 720x360 with 1 Axes>"
      ]
     },
     "metadata": {
      "needs_background": "light"
     },
     "output_type": "display_data"
    }
   ],
   "source": [
    "norm_conf_int(alpha = 0.05, mean_hat = 0, std_hat = 1, margin=5);"
   ]
  },
  {
   "cell_type": "markdown",
   "id": "099edbc2-799d-4062-a4db-693c654bd65a",
   "metadata": {
    "tags": []
   },
   "source": [
    "# 0. Датасет\n",
    "\n",
    "Характеристики квартир в Москве"
   ]
  },
  {
   "cell_type": "code",
   "execution_count": 12,
   "id": "643fb86a-bd61-47d7-a375-9a0732df5e86",
   "metadata": {},
   "outputs": [
    {
     "name": "stdout",
     "output_type": "stream",
     "text": [
      "(2040, 11)\n"
     ]
    },
    {
     "data": {
      "text/html": [
       "<div>\n",
       "<style scoped>\n",
       "    .dataframe tbody tr th:only-of-type {\n",
       "        vertical-align: middle;\n",
       "    }\n",
       "\n",
       "    .dataframe tbody tr th {\n",
       "        vertical-align: top;\n",
       "    }\n",
       "\n",
       "    .dataframe thead th {\n",
       "        text-align: right;\n",
       "    }\n",
       "</style>\n",
       "<table border=\"1\" class=\"dataframe\">\n",
       "  <thead>\n",
       "    <tr style=\"text-align: right;\">\n",
       "      <th></th>\n",
       "      <th>n</th>\n",
       "      <th>price</th>\n",
       "      <th>totsp</th>\n",
       "      <th>livesp</th>\n",
       "      <th>kitsp</th>\n",
       "      <th>dist</th>\n",
       "      <th>metrdist</th>\n",
       "      <th>walk</th>\n",
       "      <th>brick</th>\n",
       "      <th>floor</th>\n",
       "      <th>code</th>\n",
       "    </tr>\n",
       "  </thead>\n",
       "  <tbody>\n",
       "    <tr>\n",
       "      <th>0</th>\n",
       "      <td>1</td>\n",
       "      <td>81</td>\n",
       "      <td>58</td>\n",
       "      <td>40</td>\n",
       "      <td>6.0</td>\n",
       "      <td>12.5</td>\n",
       "      <td>7</td>\n",
       "      <td>1</td>\n",
       "      <td>1</td>\n",
       "      <td>1</td>\n",
       "      <td>3</td>\n",
       "    </tr>\n",
       "    <tr>\n",
       "      <th>1</th>\n",
       "      <td>2</td>\n",
       "      <td>75</td>\n",
       "      <td>44</td>\n",
       "      <td>28</td>\n",
       "      <td>6.0</td>\n",
       "      <td>13.5</td>\n",
       "      <td>7</td>\n",
       "      <td>1</td>\n",
       "      <td>0</td>\n",
       "      <td>1</td>\n",
       "      <td>6</td>\n",
       "    </tr>\n",
       "    <tr>\n",
       "      <th>2</th>\n",
       "      <td>3</td>\n",
       "      <td>128</td>\n",
       "      <td>70</td>\n",
       "      <td>42</td>\n",
       "      <td>6.0</td>\n",
       "      <td>14.5</td>\n",
       "      <td>3</td>\n",
       "      <td>1</td>\n",
       "      <td>1</td>\n",
       "      <td>1</td>\n",
       "      <td>3</td>\n",
       "    </tr>\n",
       "    <tr>\n",
       "      <th>3</th>\n",
       "      <td>4</td>\n",
       "      <td>95</td>\n",
       "      <td>61</td>\n",
       "      <td>37</td>\n",
       "      <td>6.0</td>\n",
       "      <td>13.5</td>\n",
       "      <td>7</td>\n",
       "      <td>1</td>\n",
       "      <td>0</td>\n",
       "      <td>1</td>\n",
       "      <td>1</td>\n",
       "    </tr>\n",
       "    <tr>\n",
       "      <th>4</th>\n",
       "      <td>5</td>\n",
       "      <td>330</td>\n",
       "      <td>104</td>\n",
       "      <td>60</td>\n",
       "      <td>11.0</td>\n",
       "      <td>10.5</td>\n",
       "      <td>7</td>\n",
       "      <td>0</td>\n",
       "      <td>1</td>\n",
       "      <td>1</td>\n",
       "      <td>3</td>\n",
       "    </tr>\n",
       "  </tbody>\n",
       "</table>\n",
       "</div>"
      ],
      "text/plain": [
       "   n  price  totsp  livesp  kitsp  dist  metrdist  walk  brick  floor  code\n",
       "0  1     81     58      40    6.0  12.5         7     1      1      1     3\n",
       "1  2     75     44      28    6.0  13.5         7     1      0      1     6\n",
       "2  3    128     70      42    6.0  14.5         3     1      1      1     3\n",
       "3  4     95     61      37    6.0  13.5         7     1      0      1     1\n",
       "4  5    330    104      60   11.0  10.5         7     0      1      1     3"
      ]
     },
     "execution_count": 12,
     "metadata": {},
     "output_type": "execute_result"
    }
   ],
   "source": [
    "df = pd.read_csv('flat.csv', sep=';')\n",
    "print(df.shape)\n",
    "df.head()"
   ]
  },
  {
   "cell_type": "markdown",
   "id": "8a6d9bb7-5062-4bd9-8fea-cda9689dba31",
   "metadata": {},
   "source": [
    "n – номер квартиры по порядку  \n",
    "price – цена квартиры в $1000  \n",
    "totsp – общая площадь квартиры, кв.м.  \n",
    "livesp жилая площадь квартиры, кв.м.  \n",
    "kitsp – площадь кухни, кв.м.  \n",
    "dist – расстояние от центра в км.  \n",
    "metrdist – расстояние до метро в минутах  \n",
    "walk – 1 – пешком от метро, 0 – на транспорте  \n",
    "brick 1 – кирпичный, монолит ж/б, 0 – другой  \n",
    "floor 1 – этаж кроме первого и последнего, 0 – иначе.  \n",
    "code – число от 1 до 8, при помощи которого мы группируем наблюдения по\n",
    "подвыборкам:  \n",
    "\n",
    "1. Наблюдения сгруппированы на севере, вокруг Калужско-Рижской линии\n",
    "метрополитена\n",
    "2. Север, вокруг Серпуховско-Тимирязевской линии метрополитена\n",
    "3. Северо-запад, вокруг Замоскворецкой линии метрополитена\n",
    "4. Северо-запад, вокруг Таганско-Краснопресненской линии метрополитена\n",
    "5. Юго-восток, вокруг Люблинской линии метрополитена\n",
    "6. Юго-восток, вокруг Таганско-Краснопресненской линии метрополитена\n",
    "7. Восток, вокруг Калиниской линии метрополитена\n",
    "8. Восток, вокруг Арбатско-Покровской линии метрополитена"
   ]
  },
  {
   "cell_type": "markdown",
   "id": "fcd91e62-6c03-4ef7-b689-e24c4fb418fb",
   "metadata": {},
   "source": [
    "## 1. Доверительные интервалы для средних\n",
    "\n",
    "Построим $95\\%$ асимптотический доверительный интервал для средней стоимости квартиры. Построим точный доверительный интервал для средней стоимости квартиры. Какой из них оказался уже? Почему?\n",
    "\n",
    "__Асимптотический доверительный интервал:__\n",
    "\n",
    "$$\n",
    "\\mathbb{P} = \\left( \\bar X - Z_{1-\\frac{\\alpha}{2}} \\sqrt{\\frac{\\hat \\sigma^2}{n}} \n",
    "\\leq \\mu \\leq \\bar X + Z_{1-\\frac{\\alpha}{2}} \\sqrt{\\frac{\\hat \\sigma^2}{n}} \\right) = 1 - \\alpha\n",
    "$$\n",
    "\n",
    "$$\n",
    "\\mu = \\bar X \\pm Z_{1-\\frac{\\alpha}{2}} \\sqrt{\\frac{\\hat \\sigma^2}{n}}\n",
    "$$\n",
    "\n",
    "$$\n",
    "\\mu = \\bar X \\pm Z_{1 - \\frac{\\alpha}{2}} \\cdot \\sqrt{\\frac{\\hat s^2}{n}}.\n",
    "$$\n",
    "\n",
    "> Предположения: В выборке нет аномалий, собиралась независимо, тогда среднее асимптотически нормально распределено (ЦПТ)"
   ]
  },
  {
   "cell_type": "code",
   "execution_count": 13,
   "id": "b958d4be-9dc0-4b09-8829-ec9608362179",
   "metadata": {},
   "outputs": [
    {
     "name": "stdout",
     "output_type": "stream",
     "text": [
      "Доверительный интервал [125.2; 129.7] ширины 4.502\n"
     ]
    }
   ],
   "source": [
    "# вручную \n",
    "norm_rv = sts.norm()\n",
    "\n",
    "alpha = 0.05\n",
    "z_crit = norm_rv.ppf(1 - alpha / 2)\n",
    "\n",
    "mu_hat = df.price.mean()            # оценка среднего <x>\n",
    "var_hat = df.price.var(ddof = 1)    # оценка дисперсии s^2, ddof=1 для несмещённости\n",
    "n = df.price.count()\n",
    "\n",
    "left = mu_hat - z_crit * np.sqrt(var_hat / n)\n",
    "right = mu_hat + z_crit * np.sqrt(var_hat / n)\n",
    "\n",
    "print(\"Доверительный интервал [{:.4}; {:.4}] ширины {:.4}\" \\\n",
    "      .format(left, right, right - left))"
   ]
  },
  {
   "cell_type": "code",
   "execution_count": 14,
   "id": "781ef320-0b12-4422-a751-99cbd17bf634",
   "metadata": {},
   "outputs": [
    {
     "data": {
      "text/plain": [
       "(125.24534794254012, 129.74778931236185)"
      ]
     },
     "execution_count": 14,
     "metadata": {},
     "output_type": "execute_result"
    }
   ],
   "source": [
    "# при помощи пакета stats\n",
    "mu_hat = df.price.mean() \n",
    "sd_hat = df.price.std(ddof = 1) / np.sqrt(n)\n",
    "\n",
    "sts.norm.interval(0.95, loc = mu_hat, scale = sd_hat)"
   ]
  },
  {
   "cell_type": "code",
   "execution_count": 15,
   "id": "fbb8bf89-dae0-4679-8a35-3ee87d3eb927",
   "metadata": {},
   "outputs": [
    {
     "data": {
      "text/plain": [
       "(125.24534794254012, 129.74778931236185)"
      ]
     },
     "execution_count": 15,
     "metadata": {},
     "output_type": "execute_result"
    },
    {
     "data": {
      "image/png": "[encoded data removed]",
      "text/plain": [
       "<Figure size 720x360 with 1 Axes>"
      ]
     },
     "metadata": {
      "needs_background": "light"
     },
     "output_type": "display_data"
    }
   ],
   "source": [
    "# при помощи функции norm_conf_int()\n",
    "alpha = 0.05\n",
    "mu_hat = df.price.mean() \n",
    "sd_hat = df.price.std(ddof = 1) / np.sqrt(n)\n",
    "\n",
    "norm_conf_int(alpha, mu_hat, sd_hat, margin = 5)"
   ]
  },
  {
   "cell_type": "markdown",
   "id": "2d06a9bf-8c92-4dbd-b9aa-f23742aff350",
   "metadata": {},
   "source": [
    "__Точный доверительный интервал:__\n",
    "\n",
    "$$\n",
    "\\bar x \\pm t_{1 - \\frac{\\alpha}{2}} \\cdot \\sqrt{\\frac{\\hat s^2}{n}}.\n",
    "$$\n",
    "\n",
    "> Предположения: Выборка пришла из нормального распределения, дисперсия неизвестна"
   ]
  },
  {
   "cell_type": "code",
   "execution_count": 16,
   "id": "ab635de7-9e80-4645-bb28-e693acb28982",
   "metadata": {},
   "outputs": [
    {
     "name": "stdout",
     "output_type": "stream",
     "text": [
      "Доверительный интервал [125.2; 129.7] ширины 4.505\n"
     ]
    }
   ],
   "source": [
    "# вручную \n",
    "n = df.price.count()\n",
    "t_rv = sts.t(n - 1)\n",
    "\n",
    "alpha = 0.05\n",
    "t_crit = t_rv.ppf(1 - alpha / 2)\n",
    "\n",
    "mu_hat = df.price.mean() \n",
    "var_hat = df.price.var(ddof = 1)\n",
    "\n",
    "\n",
    "left = mu_hat - t_crit * np.sqrt(var_hat / n)\n",
    "right = mu_hat + t_crit * np.sqrt(var_hat / n)\n",
    "\n",
    "print(\"Доверительный интервал [{:.4}; {:.4}] ширины {:.4}\" \\\n",
    "      .format(left, right, right - left))"
   ]
  },
  {
   "cell_type": "code",
   "execution_count": 17,
   "id": "faf72128-94fc-4f83-be8d-4c54ffeae4b6",
   "metadata": {},
   "outputs": [
    {
     "name": "stdout",
     "output_type": "stream",
     "text": [
      "Доверительный интервал [125.2; 129.7] ширины 4.505\n"
     ]
    }
   ],
   "source": [
    "# пакетом \n",
    "n = df.price.count()\n",
    "mu_hat = df.price.mean()\n",
    "sd_hat = df.price.std(ddof = 1) / np.sqrt(n)\n",
    "\n",
    "# тут 0.95 это 1 - alpha\n",
    "left, right = sts.t.interval(0.95, df = (n - 1), loc = mu_hat, scale = sd_hat)\n",
    "print(\"Доверительный интервал [{:.4}; {:.4}] ширины {:.4}\" \\\n",
    "      .format(left, right, right - left))"
   ]
  },
  {
   "cell_type": "markdown",
   "id": "56ea49ec-5468-46a6-a8b6-6903129bb02c",
   "metadata": {},
   "source": [
    "> Видим, что интервалы не сильно отличаются друг от друга, из-за того, что у нас в выборке много наблюдений. При большом числе степеней свободы распределение Стьюдента похоже на нормальное. Тем не менее даже при большом количестве наблюдений точный доверительный интервал оказывается немного шире."
   ]
  },
  {
   "cell_type": "markdown",
   "id": "c0c856e4-2e60-4ffd-875a-4612a1d19ba1",
   "metadata": {},
   "source": [
    "__Построим $99\\%$ точные доверительные интервалы для всех районов. В какие из них попало общее среднее? Построим красивую визулизацию.__"
   ]
  },
  {
   "cell_type": "code",
   "execution_count": 18,
   "id": "63f22c69-bc57-47d4-b0b9-9d5d9b2eedd0",
   "metadata": {},
   "outputs": [
    {
     "data": {
      "text/html": [
       "<div>\n",
       "<style scoped>\n",
       "    .dataframe tbody tr th:only-of-type {\n",
       "        vertical-align: middle;\n",
       "    }\n",
       "\n",
       "    .dataframe tbody tr th {\n",
       "        vertical-align: top;\n",
       "    }\n",
       "\n",
       "    .dataframe thead th {\n",
       "        text-align: right;\n",
       "    }\n",
       "</style>\n",
       "<table border=\"1\" class=\"dataframe\">\n",
       "  <thead>\n",
       "    <tr style=\"text-align: right;\">\n",
       "      <th></th>\n",
       "      <th>n</th>\n",
       "      <th>price</th>\n",
       "      <th>totsp</th>\n",
       "      <th>livesp</th>\n",
       "      <th>kitsp</th>\n",
       "      <th>dist</th>\n",
       "      <th>metrdist</th>\n",
       "      <th>walk</th>\n",
       "      <th>brick</th>\n",
       "      <th>floor</th>\n",
       "      <th>code</th>\n",
       "    </tr>\n",
       "  </thead>\n",
       "  <tbody>\n",
       "    <tr>\n",
       "      <th>0</th>\n",
       "      <td>1</td>\n",
       "      <td>81</td>\n",
       "      <td>58</td>\n",
       "      <td>40</td>\n",
       "      <td>6.0</td>\n",
       "      <td>12.5</td>\n",
       "      <td>7</td>\n",
       "      <td>1</td>\n",
       "      <td>1</td>\n",
       "      <td>1</td>\n",
       "      <td>3</td>\n",
       "    </tr>\n",
       "    <tr>\n",
       "      <th>1</th>\n",
       "      <td>2</td>\n",
       "      <td>75</td>\n",
       "      <td>44</td>\n",
       "      <td>28</td>\n",
       "      <td>6.0</td>\n",
       "      <td>13.5</td>\n",
       "      <td>7</td>\n",
       "      <td>1</td>\n",
       "      <td>0</td>\n",
       "      <td>1</td>\n",
       "      <td>6</td>\n",
       "    </tr>\n",
       "    <tr>\n",
       "      <th>2</th>\n",
       "      <td>3</td>\n",
       "      <td>128</td>\n",
       "      <td>70</td>\n",
       "      <td>42</td>\n",
       "      <td>6.0</td>\n",
       "      <td>14.5</td>\n",
       "      <td>3</td>\n",
       "      <td>1</td>\n",
       "      <td>1</td>\n",
       "      <td>1</td>\n",
       "      <td>3</td>\n",
       "    </tr>\n",
       "    <tr>\n",
       "      <th>3</th>\n",
       "      <td>4</td>\n",
       "      <td>95</td>\n",
       "      <td>61</td>\n",
       "      <td>37</td>\n",
       "      <td>6.0</td>\n",
       "      <td>13.5</td>\n",
       "      <td>7</td>\n",
       "      <td>1</td>\n",
       "      <td>0</td>\n",
       "      <td>1</td>\n",
       "      <td>1</td>\n",
       "    </tr>\n",
       "    <tr>\n",
       "      <th>4</th>\n",
       "      <td>5</td>\n",
       "      <td>330</td>\n",
       "      <td>104</td>\n",
       "      <td>60</td>\n",
       "      <td>11.0</td>\n",
       "      <td>10.5</td>\n",
       "      <td>7</td>\n",
       "      <td>0</td>\n",
       "      <td>1</td>\n",
       "      <td>1</td>\n",
       "      <td>3</td>\n",
       "    </tr>\n",
       "  </tbody>\n",
       "</table>\n",
       "</div>"
      ],
      "text/plain": [
       "   n  price  totsp  livesp  kitsp  dist  metrdist  walk  brick  floor  code\n",
       "0  1     81     58      40    6.0  12.5         7     1      1      1     3\n",
       "1  2     75     44      28    6.0  13.5         7     1      0      1     6\n",
       "2  3    128     70      42    6.0  14.5         3     1      1      1     3\n",
       "3  4     95     61      37    6.0  13.5         7     1      0      1     1\n",
       "4  5    330    104      60   11.0  10.5         7     0      1      1     3"
      ]
     },
     "execution_count": 18,
     "metadata": {},
     "output_type": "execute_result"
    }
   ],
   "source": [
    "df.head()"
   ]
  },
  {
   "cell_type": "code",
   "execution_count": 19,
   "id": "99243970-8ad0-4dd9-8780-9f1150c58944",
   "metadata": {},
   "outputs": [
    {
     "data": {
      "text/html": [
       "<div>\n",
       "<style scoped>\n",
       "    .dataframe tbody tr th:only-of-type {\n",
       "        vertical-align: middle;\n",
       "    }\n",
       "\n",
       "    .dataframe tbody tr th {\n",
       "        vertical-align: top;\n",
       "    }\n",
       "\n",
       "    .dataframe thead th {\n",
       "        text-align: right;\n",
       "    }\n",
       "</style>\n",
       "<table border=\"1\" class=\"dataframe\">\n",
       "  <thead>\n",
       "    <tr style=\"text-align: right;\">\n",
       "      <th></th>\n",
       "      <th>mean</th>\n",
       "      <th>std</th>\n",
       "      <th>count</th>\n",
       "    </tr>\n",
       "    <tr>\n",
       "      <th>code</th>\n",
       "      <th></th>\n",
       "      <th></th>\n",
       "      <th></th>\n",
       "    </tr>\n",
       "  </thead>\n",
       "  <tbody>\n",
       "    <tr>\n",
       "      <th>1</th>\n",
       "      <td>134.411765</td>\n",
       "      <td>49.619507</td>\n",
       "      <td>272</td>\n",
       "    </tr>\n",
       "    <tr>\n",
       "      <th>2</th>\n",
       "      <td>110.316279</td>\n",
       "      <td>29.518448</td>\n",
       "      <td>215</td>\n",
       "    </tr>\n",
       "    <tr>\n",
       "      <th>3</th>\n",
       "      <td>148.246377</td>\n",
       "      <td>70.573565</td>\n",
       "      <td>345</td>\n",
       "    </tr>\n",
       "    <tr>\n",
       "      <th>4</th>\n",
       "      <td>148.693780</td>\n",
       "      <td>73.656832</td>\n",
       "      <td>209</td>\n",
       "    </tr>\n",
       "    <tr>\n",
       "      <th>5</th>\n",
       "      <td>115.779762</td>\n",
       "      <td>31.507483</td>\n",
       "      <td>336</td>\n",
       "    </tr>\n",
       "    <tr>\n",
       "      <th>6</th>\n",
       "      <td>109.964981</td>\n",
       "      <td>32.976595</td>\n",
       "      <td>257</td>\n",
       "    </tr>\n",
       "    <tr>\n",
       "      <th>7</th>\n",
       "      <td>114.230088</td>\n",
       "      <td>33.897495</td>\n",
       "      <td>226</td>\n",
       "    </tr>\n",
       "    <tr>\n",
       "      <th>8</th>\n",
       "      <td>136.744444</td>\n",
       "      <td>48.639263</td>\n",
       "      <td>180</td>\n",
       "    </tr>\n",
       "  </tbody>\n",
       "</table>\n",
       "</div>"
      ],
      "text/plain": [
       "            mean        std  count\n",
       "code                              \n",
       "1     134.411765  49.619507    272\n",
       "2     110.316279  29.518448    215\n",
       "3     148.246377  70.573565    345\n",
       "4     148.693780  73.656832    209\n",
       "5     115.779762  31.507483    336\n",
       "6     109.964981  32.976595    257\n",
       "7     114.230088  33.897495    226\n",
       "8     136.744444  48.639263    180"
      ]
     },
     "execution_count": 19,
     "metadata": {},
     "output_type": "execute_result"
    }
   ],
   "source": [
    "df_agg = df.groupby('code')['price'].agg(['mean', 'std', 'count'])\n",
    "df_agg"
   ]
  },
  {
   "cell_type": "code",
   "execution_count": 21,
   "id": "32bb9725-5df1-468b-9e3d-69fd3380ee38",
   "metadata": {},
   "outputs": [
    {
     "data": {
      "text/html": [
       "<div>\n",
       "<style scoped>\n",
       "    .dataframe tbody tr th:only-of-type {\n",
       "        vertical-align: middle;\n",
       "    }\n",
       "\n",
       "    .dataframe tbody tr th {\n",
       "        vertical-align: top;\n",
       "    }\n",
       "\n",
       "    .dataframe thead th {\n",
       "        text-align: right;\n",
       "    }\n",
       "</style>\n",
       "<table border=\"1\" class=\"dataframe\">\n",
       "  <thead>\n",
       "    <tr style=\"text-align: right;\">\n",
       "      <th></th>\n",
       "      <th>mean</th>\n",
       "      <th>std</th>\n",
       "      <th>count</th>\n",
       "      <th>t_crit</th>\n",
       "      <th>step</th>\n",
       "    </tr>\n",
       "    <tr>\n",
       "      <th>code</th>\n",
       "      <th></th>\n",
       "      <th></th>\n",
       "      <th></th>\n",
       "      <th></th>\n",
       "      <th></th>\n",
       "    </tr>\n",
       "  </thead>\n",
       "  <tbody>\n",
       "    <tr>\n",
       "      <th>1</th>\n",
       "      <td>134.411765</td>\n",
       "      <td>49.619507</td>\n",
       "      <td>272</td>\n",
       "      <td>2.594092</td>\n",
       "      <td>7.804650</td>\n",
       "    </tr>\n",
       "    <tr>\n",
       "      <th>2</th>\n",
       "      <td>110.316279</td>\n",
       "      <td>29.518448</td>\n",
       "      <td>215</td>\n",
       "      <td>2.598998</td>\n",
       "      <td>5.232150</td>\n",
       "    </tr>\n",
       "    <tr>\n",
       "      <th>3</th>\n",
       "      <td>148.246377</td>\n",
       "      <td>70.573565</td>\n",
       "      <td>345</td>\n",
       "      <td>2.590197</td>\n",
       "      <td>9.841589</td>\n",
       "    </tr>\n",
       "    <tr>\n",
       "      <th>4</th>\n",
       "      <td>148.693780</td>\n",
       "      <td>73.656832</td>\n",
       "      <td>209</td>\n",
       "      <td>2.599672</td>\n",
       "      <td>13.245198</td>\n",
       "    </tr>\n",
       "    <tr>\n",
       "      <th>5</th>\n",
       "      <td>115.779762</td>\n",
       "      <td>31.507483</td>\n",
       "      <td>336</td>\n",
       "      <td>2.590585</td>\n",
       "      <td>4.452889</td>\n",
       "    </tr>\n",
       "    <tr>\n",
       "      <th>6</th>\n",
       "      <td>109.964981</td>\n",
       "      <td>32.976595</td>\n",
       "      <td>257</td>\n",
       "      <td>2.595170</td>\n",
       "      <td>5.338326</td>\n",
       "    </tr>\n",
       "    <tr>\n",
       "      <th>7</th>\n",
       "      <td>114.230088</td>\n",
       "      <td>33.897495</td>\n",
       "      <td>226</td>\n",
       "      <td>2.597856</td>\n",
       "      <td>5.857718</td>\n",
       "    </tr>\n",
       "    <tr>\n",
       "      <th>8</th>\n",
       "      <td>136.744444</td>\n",
       "      <td>48.639263</td>\n",
       "      <td>180</td>\n",
       "      <td>2.603574</td>\n",
       "      <td>9.438884</td>\n",
       "    </tr>\n",
       "  </tbody>\n",
       "</table>\n",
       "</div>"
      ],
      "text/plain": [
       "            mean        std  count    t_crit       step\n",
       "code                                                   \n",
       "1     134.411765  49.619507    272  2.594092   7.804650\n",
       "2     110.316279  29.518448    215  2.598998   5.232150\n",
       "3     148.246377  70.573565    345  2.590197   9.841589\n",
       "4     148.693780  73.656832    209  2.599672  13.245198\n",
       "5     115.779762  31.507483    336  2.590585   4.452889\n",
       "6     109.964981  32.976595    257  2.595170   5.338326\n",
       "7     114.230088  33.897495    226  2.597856   5.857718\n",
       "8     136.744444  48.639263    180  2.603574   9.438884"
      ]
     },
     "execution_count": 21,
     "metadata": {},
     "output_type": "execute_result"
    }
   ],
   "source": [
    "alpha = 0.01\n",
    "df_agg['t_crit'] = df_agg['count'].apply(lambda w: sts.t(w - 1).ppf(1 - alpha/2))\n",
    "\n",
    "# на сколько отступать вправо и влево от математического ожидания\n",
    "df_agg['step'] =  df_agg['t_crit']  * df_agg['std']/np.sqrt(df_agg['count'])\n",
    "df_agg"
   ]
  },
  {
   "cell_type": "code",
   "execution_count": 22,
   "id": "b92207ad-9f53-4af7-9add-f9efd99522e0",
   "metadata": {},
   "outputs": [
    {
     "data": {
      "image/png": "[encoded data removed]",
      "text/plain": [
       "<Figure size 720x360 with 1 Axes>"
      ]
     },
     "metadata": {
      "needs_background": "light"
     },
     "output_type": "display_data"
    }
   ],
   "source": [
    "district = [\n",
    "    'Север, Калужско-Рижская', 'Север, Серпуховско-Тимирязевская', \n",
    "    'Северо-запад, Замоскворецкая', 'Северо-запад, Таганско-Краснопресненская', \n",
    "    'Юго-восток, Люблинская', 'Юго-восток, Таганско-Краснопресненская',\n",
    "    'Восток, Калиниская', 'Восток, Арбатско-Покровская'\n",
    "]\n",
    "\n",
    "center = df_agg['mean'].values\n",
    "step = df_agg['step'].values\n",
    "\n",
    "mu_hat = df.price.mean() # общее среднее \n",
    "\n",
    "plt.figure(figsize=(10,5))\n",
    "\n",
    "plt.errorbar(center, np.arange(center.size),  xerr = step, \n",
    "             capsize=0, fmt=\"o\", color=\"blue\")\n",
    "\n",
    "plt.yticks(np.arange(center.size - 1, -1, -1), district, fontsize=12);\n",
    "plt.axvline(mu_hat, 0, color='grey');"
   ]
  },
  {
   "cell_type": "markdown",
   "id": "c4f1edb0-4c69-43b4-8428-b43c8a1aaa0f",
   "metadata": {},
   "source": [
    "__Выводы:__\n",
    "\n",
    "- В среднем, самая дорогая недвижимость находится на Юго-востоке. Самая дешёвая на Северо-западе."
   ]
  },
  {
   "cell_type": "markdown",
   "id": "3298d37f-7484-4eab-9677-ef1a994d05fd",
   "metadata": {},
   "source": [
    "__Пример 1.1__ С целью размещения рекламы опрошено 420 телезрителей, из которых данную передачу смотрят 170 человек. С доверительной вероятностью 91% найти долю телезрителей, охваченных рекламой в лучшем случае."
   ]
  },
  {
   "cell_type": "markdown",
   "id": "618b6f56-0bd4-48e7-8a4c-fa8dcf34d318",
   "metadata": {},
   "source": [
    "$$\n",
    "\\hat p \\pm t_{1-\\frac{\\alpha}{2}}(n-1) \\sqrt{ \\frac{ \\hat p (1 - \\hat p) }{n}}\n",
    "$$"
   ]
  },
  {
   "cell_type": "code",
   "execution_count": 23,
   "id": "f5898804-3f92-42a0-a79e-ccb504914c3c",
   "metadata": {},
   "outputs": [
    {
     "data": {
      "text/plain": [
       "0.40476190476190477"
      ]
     },
     "execution_count": 23,
     "metadata": {},
     "output_type": "execute_result"
    }
   ],
   "source": [
    "p_hat = 170 / 420\n",
    "p_hat"
   ]
  },
  {
   "cell_type": "code",
   "execution_count": 24,
   "id": "7b836dff-2b86-43d2-89d6-88d4f9e94705",
   "metadata": {},
   "outputs": [
    {
     "data": {
      "text/plain": [
       "1.6993260243406265"
      ]
     },
     "execution_count": 24,
     "metadata": {},
     "output_type": "execute_result"
    }
   ],
   "source": [
    "t_91 = sts.t(420 - 1).ppf(1 - 0.09/2)\n",
    "t_91"
   ]
  },
  {
   "cell_type": "code",
   "execution_count": 25,
   "id": "c06bd246-a1c9-42d9-b385-c10bff40d15d",
   "metadata": {},
   "outputs": [
    {
     "data": {
      "text/plain": [
       "0.023950827861992752"
      ]
     },
     "execution_count": 25,
     "metadata": {},
     "output_type": "execute_result"
    }
   ],
   "source": [
    "sd = np.sqrt( p_hat * (1 - p_hat) / 420)\n",
    "sd"
   ]
  },
  {
   "cell_type": "code",
   "execution_count": 26,
   "id": "976e99fc-6266-446e-81e0-56df638d37cf",
   "metadata": {},
   "outputs": [
    {
     "data": {
      "text/plain": [
       "44.54621698522916"
      ]
     },
     "execution_count": 26,
     "metadata": {},
     "output_type": "execute_result"
    }
   ],
   "source": [
    "( p_hat + t_91 * sd ) * 100"
   ]
  },
  {
   "cell_type": "markdown",
   "id": "77e17b43-a6a6-4524-a525-4fcce4e2cbab",
   "metadata": {},
   "source": [
    "## 2. Доверительный интервал для разности средних\n",
    "\n",
    "Построим $95\\%$ асимптотический доверительный интервал для разницы в средней стоимости квартир в монолитных и панельных домах.\n",
    "\n",
    "$$\n",
    "\\bar x - \\bar y \\pm z_{crit} \\cdot \\sqrt{\\frac{\\hat\\sigma_x^2}{n_x} + \\frac{\\hat\\sigma_y^2}{n_y}}\n",
    "$$"
   ]
  },
  {
   "cell_type": "code",
   "execution_count": 27,
   "id": "cc162b59-dbb6-4b48-93f1-4ff13407de0c",
   "metadata": {},
   "outputs": [
    {
     "name": "stdout",
     "output_type": "stream",
     "text": [
      "Доверительный интервал [23.04; 34.81] ширины 11.77\n"
     ]
    }
   ],
   "source": [
    "x = df[df.brick == 1].price.values\n",
    "y = df[df.brick == 0].price.values\n",
    "\n",
    "diff = x.mean() - y.mean() \n",
    "nx,ny = x.size, y.size\n",
    "diff_sd = np.sqrt(x.var(ddof=1)/nx + y.var(ddof=1)/nx)\n",
    "\n",
    "left, right = sts.norm.interval(0.95, loc=diff, scale=diff_sd)\n",
    "print(\"Доверительный интервал [{:.4}; {:.4}] ширины {:.4}\" \\\n",
    "      .format(left, right, right - left))"
   ]
  },
  {
   "cell_type": "markdown",
   "id": "cf3bd218-e752-4f8c-a8e4-65708d1c072d",
   "metadata": {},
   "source": [
    "Предположим, что дисперсии неизвестны, но равны.\n",
    "\n",
    "$$\n",
    "\\bar x - \\bar y \\pm t_{crit} \\cdot \\sqrt{\\frac{s^2}{n_x} + \\frac{s^2}{n_y}}\n",
    "$$\n",
    "\n",
    "$$\n",
    "s^2 = \\frac{(n-1)s_x^2 + (m-1)s_y^2}{(n-1)+(m-1)}\n",
    "$$\n"
   ]
  },
  {
   "cell_type": "code",
   "execution_count": 45,
   "id": "f97f5d8b-aa21-4d6f-a0f2-eee09d3be18c",
   "metadata": {},
   "outputs": [
    {
     "name": "stdout",
     "output_type": "stream",
     "text": [
      "Доверительный интервал [2.565e+03; 2.582e+03] ширины 17.18\n"
     ]
    }
   ],
   "source": [
    "diff = x.mean() - y.mean()\n",
    "nx, ny = x.size, y.size\n",
    "\n",
    "s2 = ((nx - 1)*x.var() + (ny - 1)*y.var())/(nx + ny - 2)\n",
    "diff_sd = np.sqrt(s2/nx + s2/ny)\n",
    "\n",
    "left, right = sts.t.interval(0.95, df=(nx + ny - 2), loc=diff, scale=diff_sd)\n",
    "print(\"Доверительный интервал [{:.4}; {:.4}] ширины {:.4}\" \\\n",
    "      .format(left, right, right - left))"
   ]
  },
  {
   "cell_type": "markdown",
   "id": "5612cd52-bdbe-4a7a-8006-1d734a4b3d35",
   "metadata": {},
   "source": [
    "Предположим, что дисперсии неизвестны и не равны. Построим приближённый доверительный интервал (интервал Уэлча):\n",
    "\n",
    "$$\n",
    "\\bar x - \\bar y \\pm t_{crit}(\\nu) \\cdot \\sqrt{\\frac{s^2}{n_x} + \\frac{s^2}{n_y}}\n",
    "$$\n",
    "\n",
    "$$\n",
    "\\nu = \\frac{ \\left( \\frac{s_x^2}{n_x} + \\frac{s_y^2}{n_y} \\right)^2 }{ \\frac{s_x^4}{n_x^2(n_x-1)} + \\frac{s_y^4}{n_y^2(n_y-1)} }\n",
    "$$\n",
    "\n",
    "$$\n",
    "\\nu =  \\left( \\frac{s_x^2}{n_x} + \\frac{s_y^2}{n_y} \\right)^2 \\big/ \\left( \\frac{s_x^4}{n_x^2(n_x-1)} + \\frac{s_y^4}{n_y^2(n_y-1)} \\right)\n",
    "$$"
   ]
  },
  {
   "cell_type": "code",
   "execution_count": 46,
   "id": "f7c56ffb-6300-4b94-985a-5587ac987352",
   "metadata": {},
   "outputs": [
    {
     "name": "stdout",
     "output_type": "stream",
     "text": [
      "Число степеней свободы: 1099.2637805594093\n",
      "Доверительный интервал [2.563e+03; 2.583e+03] ширины 19.78\n"
     ]
    }
   ],
   "source": [
    "diff = x.mean() - y.mean()\n",
    "nx, ny = x.size, y.size\n",
    "diff_sd = np.sqrt(x.var()/nx + y.var()/ny)\n",
    "\n",
    "u = (x.var() / nx + y.var() / ny) ** 2\n",
    "d = (x.var()**2) / (nx**2 * (nx - 1)) + (y.var()**2)/ (ny**2* (ny - 1))\n",
    "nu =  u/d \n",
    "print(\"Число степеней свободы:\", nu)\n",
    "\n",
    "left, right = sts.t.interval(0.95, df=nu, loc=diff, scale=diff_sd)\n",
    "print(\"Доверительный интервал [{:.4}; {:.4}] ширины {:.4}\" \\\n",
    "      .format(left, right, right - left))"
   ]
  },
  {
   "cell_type": "markdown",
   "id": "4c14b2bb-3446-4217-a6c2-8c9980e46d89",
   "metadata": {},
   "source": [
    "> Все три доверительных интервала из-за больших объёмов выборки снова оказались похожи. Выборочные дисперсии довольно сильно отличаются друг от друга, из-за этого использование доверительного интервала с предпосылкой о их равенстве некорректно.\n",
    "\n",
    "__Выводы:__\n",
    "\n",
    "- В среднем, на уровне значимости $5\\%$, квартиры в монолитных домах стоят дороже, чем в панельных. Ноль нигде не попадает в доверительный интервал."
   ]
  },
  {
   "cell_type": "markdown",
   "id": "849164d2-90ae-4546-9a57-8aad2ba95588",
   "metadata": {},
   "source": [
    "---"
   ]
  },
  {
   "cell_type": "markdown",
   "id": "f4ac839e-ef29-4bc9-90d2-5def56b8f90d",
   "metadata": {},
   "source": [
    "__Пример 2.1__ Имеется датасет с количеством аварий в угольных шахтах за 19 и 20 века. Нужно построить оценки $\\mu_1$ и $\\mu_2$ среднегодового количества аварий, а также сравнить эти два значения, построив 95% доверительный интервал."
   ]
  },
  {
   "cell_type": "code",
   "execution_count": 30,
   "id": "b5ea67d0-bfef-4af3-9d65-770c18c2732d",
   "metadata": {},
   "outputs": [
    {
     "name": "stdout",
     "output_type": "stream",
     "text": [
      "(112, 2)\n"
     ]
    },
    {
     "data": {
      "text/html": [
       "<div>\n",
       "<style scoped>\n",
       "    .dataframe tbody tr th:only-of-type {\n",
       "        vertical-align: middle;\n",
       "    }\n",
       "\n",
       "    .dataframe tbody tr th {\n",
       "        vertical-align: top;\n",
       "    }\n",
       "\n",
       "    .dataframe thead th {\n",
       "        text-align: right;\n",
       "    }\n",
       "</style>\n",
       "<table border=\"1\" class=\"dataframe\">\n",
       "  <thead>\n",
       "    <tr style=\"text-align: right;\">\n",
       "      <th></th>\n",
       "      <th>year</th>\n",
       "      <th>count</th>\n",
       "    </tr>\n",
       "  </thead>\n",
       "  <tbody>\n",
       "    <tr>\n",
       "      <th>0</th>\n",
       "      <td>1851</td>\n",
       "      <td>4</td>\n",
       "    </tr>\n",
       "    <tr>\n",
       "      <th>1</th>\n",
       "      <td>1852</td>\n",
       "      <td>5</td>\n",
       "    </tr>\n",
       "    <tr>\n",
       "      <th>2</th>\n",
       "      <td>1853</td>\n",
       "      <td>4</td>\n",
       "    </tr>\n",
       "    <tr>\n",
       "      <th>3</th>\n",
       "      <td>1854</td>\n",
       "      <td>1</td>\n",
       "    </tr>\n",
       "    <tr>\n",
       "      <th>4</th>\n",
       "      <td>1855</td>\n",
       "      <td>0</td>\n",
       "    </tr>\n",
       "  </tbody>\n",
       "</table>\n",
       "</div>"
      ],
      "text/plain": [
       "   year  count\n",
       "0  1851      4\n",
       "1  1852      5\n",
       "2  1853      4\n",
       "3  1854      1\n",
       "4  1855      0"
      ]
     },
     "execution_count": 30,
     "metadata": {},
     "output_type": "execute_result"
    }
   ],
   "source": [
    "coals = pd.read_csv('coals.csv', sep=',')\n",
    "print(coals.shape)\n",
    "coals.head()"
   ]
  },
  {
   "cell_type": "markdown",
   "id": "72fbf31c-82d8-433c-aa50-f7c6ecffabb6",
   "metadata": {},
   "source": [
    "Для начала построим асимптотические интервалы\n",
    "\n",
    "$$\n",
    "\\mu_i = \\hat \\lambda_i \\pm Z_{1-\\frac{\\alpha}{2}} \\sqrt{ \\frac{\\hat \\lambda_i}{n} }\n",
    "$$"
   ]
  },
  {
   "cell_type": "code",
   "execution_count": 31,
   "id": "f868db3a-7f17-4e54-ab46-41d53ac719b5",
   "metadata": {},
   "outputs": [
    {
     "data": {
      "text/plain": [
       "((50, 2), (62, 2))"
      ]
     },
     "execution_count": 31,
     "metadata": {},
     "output_type": "execute_result"
    }
   ],
   "source": [
    "XIX = coals[coals['year'] <= 1900]\n",
    "XX = coals[coals['year'] > 1900]\n",
    "XIX.shape, XX.shape "
   ]
  },
  {
   "cell_type": "code",
   "execution_count": 32,
   "id": "9b68e08b-0d44-498e-91d2-20924e997e40",
   "metadata": {
    "tags": []
   },
   "outputs": [
    {
     "data": {
      "text/plain": [
       "(2.7, 0.9032258064516129)"
      ]
     },
     "execution_count": 32,
     "metadata": {},
     "output_type": "execute_result"
    }
   ],
   "source": [
    "L_xix = XIX['count'].mean()\n",
    "L_xx = XX['count'].mean()\n",
    "L_xix, L_xx"
   ]
  },
  {
   "cell_type": "code",
   "execution_count": 33,
   "id": "8c93555f-3875-4773-8d3f-810aa89514df",
   "metadata": {},
   "outputs": [
    {
     "data": {
      "text/plain": [
       "(1.6431676725154984, 0.9503819266229829)"
      ]
     },
     "execution_count": 33,
     "metadata": {},
     "output_type": "execute_result"
    }
   ],
   "source": [
    "np.sqrt(L_xix), np.sqrt(L_xx)"
   ]
  },
  {
   "cell_type": "code",
   "execution_count": 34,
   "id": "71402970-e692-44ec-a0c8-8d94b204c06a",
   "metadata": {},
   "outputs": [
    {
     "data": {
      "text/plain": [
       "(2.9489795918367343, 1.1052353252247484)"
      ]
     },
     "execution_count": 34,
     "metadata": {},
     "output_type": "execute_result"
    }
   ],
   "source": [
    "XIX['count'].var(ddof=1), XX['count'].var(ddof=1)"
   ]
  },
  {
   "cell_type": "code",
   "execution_count": 35,
   "id": "d16daa03-05c3-4239-b2f4-28b0cdefd8bb",
   "metadata": {},
   "outputs": [
    {
     "name": "stdout",
     "output_type": "stream",
     "text": [
      "Асимптотический ДИ [2.378; 3.022] ширины 0.6441\n"
     ]
    }
   ],
   "source": [
    "s_hat = np.sqrt(L_xix / XIX.size)\n",
    "left_a, right_a = sts.norm.interval(0.95, loc = L_xix, scale =  s_hat)\n",
    "print(\"Асимптотический ДИ [{:.4}; {:.4}] ширины {:.4}\" \\\n",
    "      .format(left_a, right_a, right_a - left_a))"
   ]
  },
  {
   "cell_type": "markdown",
   "id": "98a61450-548d-484d-b008-f33e62c398ef",
   "metadata": {},
   "source": [
    "А теперь построим точные интервалы\n",
    "\n",
    "$$\n",
    "\\mu_i = \\hat \\lambda_i \\pm t_{1-\\frac{\\alpha}{2}}(n_i-1) \\sqrt{ \\frac{\\hat \\lambda_i}{n} }\n",
    "$$"
   ]
  },
  {
   "cell_type": "code",
   "execution_count": 36,
   "id": "c8ca4877-a489-48ec-bdca-3a6a8b588909",
   "metadata": {},
   "outputs": [
    {
     "name": "stdout",
     "output_type": "stream",
     "text": [
      "Точный ДИ [2.374; 3.026] ширины 0.6521\n"
     ]
    }
   ],
   "source": [
    "left_e, right_e = sts.t.interval(0.95,  df = (XIX.size - 1), loc = L_xix, scale =  s_hat)\n",
    "print(\"Точный ДИ [{:.4}; {:.4}] ширины {:.4}\" \\\n",
    "      .format(left_e, right_e, right_e - left_e))"
   ]
  },
  {
   "cell_type": "markdown",
   "id": "ce20601b-15da-4316-b4d3-ed33372288e5",
   "metadata": {},
   "source": [
    "Построим асимптотический доверительный интервал для разницы средних:\n",
    "\n",
    "$$\n",
    "\\mu_{xix} - \\mu_{xx} = (\\hat \\lambda_{xix} - \\hat \\lambda_{xx}) \\pm Z_{1-\\frac{\\alpha}{2}} \\sqrt{ \\frac{\\hat \\lambda_{xix}}{n_{xix}} + \\frac{\\hat \\lambda_{xx}}{n_{xx}} }\n",
    "$$"
   ]
  },
  {
   "cell_type": "code",
   "execution_count": 37,
   "id": "9319e0a0-8085-43d7-bf52-e683f42b349b",
   "metadata": {},
   "outputs": [
    {
     "name": "stdout",
     "output_type": "stream",
     "text": [
      "Асимптотический ДИ [1.434; 2.16] ширины 0.7258\n"
     ]
    }
   ],
   "source": [
    "diff = L_xix - L_xx \n",
    "n_xix, n_xx = XIX.size, XX.size\n",
    "diff_sd = np.sqrt( L_xix / n_xix + L_xx / n_xx )\n",
    "\n",
    "left, right = sts.norm.interval(0.95, loc = diff, scale = diff_sd)\n",
    "print(\"Асимптотический ДИ [{:.4}; {:.4}] ширины {:.4}\" \\\n",
    "      .format(left, right, right - left))"
   ]
  },
  {
   "cell_type": "markdown",
   "id": "9bd82b22-7842-46e7-ade5-a3ea4e615f72",
   "metadata": {},
   "source": [
    "Точный доверительный интервал для разности средних:\n",
    "\n",
    "$$\n",
    "\\mu_{xix} - \\mu_{xx} = (\\hat \\lambda_{xix} - \\hat \\lambda_{xx}) \\pm t_{1-\\frac{\\alpha}{2}}(n_{xix}+n_{xx}-2) \\sqrt{ \\frac{\\hat S^2}{n_{xix}} + \\frac{\\hat S^2}{n_{xx}} }\n",
    "$$\n",
    "\n",
    "$$\n",
    "\\hat S^2 = \\frac{(n_{xix}-1)\\lambda_{xix} + (n_{xx}-1)\\lambda_{xx}}{n_{xix}+n_{xx}-2}\n",
    "$$"
   ]
  },
  {
   "cell_type": "code",
   "execution_count": 38,
   "id": "b7156c9e-54f9-48bb-b587-4edc64f725ef",
   "metadata": {},
   "outputs": [
    {
     "name": "stdout",
     "output_type": "stream",
     "text": [
      "Доверительный интервал [1.451; 2.143] ширины 0.6916\n"
     ]
    }
   ],
   "source": [
    "diff_L = L_xix - L_xx\n",
    "\n",
    "S2_hat = ( (n_xix - 1) * L_xix + (n_xx - 1) * L_xx) / ( n_xix + n_xx - 2 )\n",
    "\n",
    "diff_sd = np.sqrt( S2_hat / n_xix + S2_hat / n_xx)\n",
    "\n",
    "\n",
    "left, right = sts.t.interval( 0.95, df = (n_xix + n_xx - 2), loc = diff_L, scale = diff_sd )\n",
    "print(\"Доверительный интервал [{:.4}; {:.4}] ширины {:.4}\" \\\n",
    "      .format(left, right, right - left))"
   ]
  },
  {
   "cell_type": "markdown",
   "id": "9e13ff5c-351b-47ff-8aae-cb6085430ba8",
   "metadata": {},
   "source": [
    "Невозможно точно сравнить средние двух независимых выборок, дисперсии которых неизвестны. Аппроксимация \n",
    "\n",
    "$$\n",
    "\\bar x - \\bar y \\pm t_{crit}(\\nu) \\cdot \\sqrt{\\frac{s^2}{n_x} + \\frac{s^2}{n_y}}\n",
    "$$\n",
    "\n",
    "$$\n",
    "s^2 = \\frac{(n-1)s_x^2 + (m-1)s_y^2}{(n-1)+(m-1)}\n",
    "$$\n",
    "\n",
    "$$\n",
    "\\nu =  \\left( \\frac{s_x^2}{n_x} + \\frac{s_y^2}{n_y} \\right)^2 \\big/ \\left( \\frac{s_x^4}{n_x^2(n_x-1)} + \\frac{s_y^4}{n_y^2(n_y-1)} \\right)\n",
    "$$\n",
    "\n",
    "хорошо работает, если $n_x = n_y$ либо знак неравенства между $n_x$ и $n_y$ такой же, как между $\\sigma_x$ и $\\sigma_y$.\n",
    "\n",
    "В нашей ситуации\n",
    "\n",
    "$$\n",
    "(n_{xix} = 50) < (n_{xx} = 62)\n",
    "$$ \n",
    "\n",
    "но при этом \n",
    "$$\n",
    "(\\sqrt{L_{xix}} = \\sqrt{2.95} = 1.64) > (\\sqrt{L_{xx}} = \\sqrt{0.91} = 0.95)\n",
    "$$"
   ]
  },
  {
   "cell_type": "markdown",
   "id": "f8e51ccd-2a86-4744-8b78-2b276dd05281",
   "metadata": {
    "tags": []
   },
   "source": [
    "## 3. Доверительный интервал для дисперсии\n",
    "\n",
    "Предполагая нормальность распределения цен, построим $95\\%$ доверительный интервал для дисперсии стоимости квартир.\n",
    "\n",
    "$$\n",
    "\\frac{(n - 1) \\cdot s^2}{\\chi_{n-1}^2 \\left(\\frac{\\alpha}{2} \\right)} \\le \\sigma^2 \\le \\frac{(n - 1) \\cdot s^2}{\\chi_{n-1}^2 \\left(1 - \\frac{\\alpha}{2} \\right)}\n",
    "$$\n",
    "\n",
    "> Предположения: Выборка пришла из нормального распределения, математическое ожидание неизвестно, выполняется теорема Фишера"
   ]
  },
  {
   "cell_type": "markdown",
   "id": "a849e3fe-6e47-456d-af38-12804aad0626",
   "metadata": {},
   "source": [
    "__Определение:__  случайная величина $Y = X_1^2 + \\ldots X_k^2$ имеет распределение хи-квадрат с $k$ степенями свободы. Кратко это записывают как $Y \\sim \\chi^2_k.$"
   ]
  },
  {
   "cell_type": "code",
   "execution_count": 39,
   "id": "3a66f67e-cfc0-45f0-b3dd-a413462b0e97",
   "metadata": {},
   "outputs": [
    {
     "data": {
      "image/png": "[encoded data removed]",
      "text/plain": [
       "<Figure size 720x360 with 1 Axes>"
      ]
     },
     "metadata": {
      "needs_background": "light"
     },
     "output_type": "display_data"
    }
   ],
   "source": [
    "plt.figure(figsize=(10, 5))\n",
    "\n",
    "x = np.linspace(0,30,100)\n",
    "for k in [1, 2, 3, 5, 10, 15]:\n",
    "    rv = sts.chi2(k)\n",
    "    pdf = rv.pdf(x)\n",
    "    plt.plot(x, pdf, label=\"$k=%s$\" % k)\n",
    "plt.legend()\n",
    "#plt.title(\"PDF ($\\chi^2_k$)\");\n",
    "\n",
    "plt.xlabel('$x$', fontsize=20)\n",
    "plt.ylabel(r'Probability', fontsize=20)\n",
    "plt.legend(fontsize = 16);"
   ]
  },
  {
   "cell_type": "code",
   "execution_count": 40,
   "id": "dd940dc4-2005-4252-b943-7bbcc88827a4",
   "metadata": {},
   "outputs": [
    {
     "name": "stdout",
     "output_type": "stream",
     "text": [
      "Доверительный интервал [2558.2; 2835.8] ширины 277.68\n"
     ]
    }
   ],
   "source": [
    "alpha = 0.1\n",
    "\n",
    "n = df.price.count()\n",
    "var_hat = df.price.var(ddof=1)\n",
    "\n",
    "chi_l, chi_u = sts.chi2.ppf([1-alpha/2, alpha/2], df = n - 1)\n",
    "\n",
    "left = (n - 1) * var_hat/chi_l\n",
    "right = (n - 1) * var_hat/chi_u\n",
    "\n",
    "print(\"Доверительный интервал [{:.5}; {:.5}] ширины {:.5}\" \\\n",
    "      .format(left, right, right - left))\n"
   ]
  },
  {
   "cell_type": "code",
   "execution_count": 41,
   "id": "e9a9fd19-0f65-452c-b8cb-7f1a3c9372b8",
   "metadata": {},
   "outputs": [
    {
     "data": {
      "text/plain": [
       "2691.3496694361866"
      ]
     },
     "execution_count": 41,
     "metadata": {},
     "output_type": "execute_result"
    }
   ],
   "source": [
    "var_hat"
   ]
  },
  {
   "cell_type": "code",
   "execution_count": 42,
   "id": "70986d32-0aee-45e6-bd6a-bcf1a8c19837",
   "metadata": {},
   "outputs": [
    {
     "data": {
      "image/png": "[encoded data removed]",
      "text/plain": [
       "<Figure size 720x360 with 1 Axes>"
      ]
     },
     "metadata": {
      "needs_background": "light"
     },
     "output_type": "display_data"
    }
   ],
   "source": [
    "plt.figure(figsize=(10, 5))\n",
    "\n",
    "x = np.linspace(var_hat * 0.9, var_hat * 1.1, 1000)\n",
    "rv = sts.chi2(var_hat)\n",
    "pdf = rv.pdf(x)\n",
    "plt.plot(x, pdf)\n",
    "\n",
    "#xq = np.linspace(right, mean_hat + margin)\n",
    "xq_l = np.linspace(var_hat * 0.9, left)\n",
    "yq_l = sts.chi2(var_hat).pdf(xq_l)\n",
    "xq_u = np.linspace(right, var_hat * 1.1)\n",
    "yq_u = sts.chi2(var_hat).pdf(xq_u)\n",
    "\n",
    "\n",
    "plt.fill_between(xq_l, 0, yq_l, color='blue', alpha=0.3)\n",
    "plt.fill_between(xq_u, 0, yq_u, color='blue', alpha=0.3)\n",
    "plt.xlabel('$x$', fontsize=20)\n",
    "plt.ylabel(r'Probability', fontsize=20);\n"
   ]
  },
  {
   "cell_type": "markdown",
   "id": "ce5ebcb3-c9fb-47b7-aed4-d802fed6cb2b",
   "metadata": {},
   "source": [
    "Сделаем то же самое, но в разбивке по районам."
   ]
  },
  {
   "cell_type": "code",
   "execution_count": 43,
   "id": "02717681-45d5-4d7e-b175-339c26ddafa4",
   "metadata": {},
   "outputs": [
    {
     "data": {
      "text/html": [
       "<div>\n",
       "<style scoped>\n",
       "    .dataframe tbody tr th:only-of-type {\n",
       "        vertical-align: middle;\n",
       "    }\n",
       "\n",
       "    .dataframe tbody tr th {\n",
       "        vertical-align: top;\n",
       "    }\n",
       "\n",
       "    .dataframe thead th {\n",
       "        text-align: right;\n",
       "    }\n",
       "</style>\n",
       "<table border=\"1\" class=\"dataframe\">\n",
       "  <thead>\n",
       "    <tr style=\"text-align: right;\">\n",
       "      <th></th>\n",
       "      <th>var</th>\n",
       "      <th>count</th>\n",
       "      <th>ch_l</th>\n",
       "      <th>ch_u</th>\n",
       "      <th>left</th>\n",
       "      <th>right</th>\n",
       "    </tr>\n",
       "    <tr>\n",
       "      <th>code</th>\n",
       "      <th></th>\n",
       "      <th></th>\n",
       "      <th></th>\n",
       "      <th></th>\n",
       "      <th></th>\n",
       "      <th></th>\n",
       "    </tr>\n",
       "  </thead>\n",
       "  <tbody>\n",
       "    <tr>\n",
       "      <th>1</th>\n",
       "      <td>2462.095507</td>\n",
       "      <td>272</td>\n",
       "      <td>318.493509</td>\n",
       "      <td>227.293087</td>\n",
       "      <td>2094.949704</td>\n",
       "      <td>2935.539707</td>\n",
       "    </tr>\n",
       "    <tr>\n",
       "      <th>2</th>\n",
       "      <td>871.338752</td>\n",
       "      <td>215</td>\n",
       "      <td>256.407893</td>\n",
       "      <td>175.378164</td>\n",
       "      <td>727.226026</td>\n",
       "      <td>1063.225252</td>\n",
       "    </tr>\n",
       "    <tr>\n",
       "      <th>3</th>\n",
       "      <td>4980.628075</td>\n",
       "      <td>345</td>\n",
       "      <td>397.276692</td>\n",
       "      <td>294.510332</td>\n",
       "      <td>4312.702181</td>\n",
       "      <td>5817.575378</td>\n",
       "    </tr>\n",
       "    <tr>\n",
       "      <th>4</th>\n",
       "      <td>5425.328855</td>\n",
       "      <td>209</td>\n",
       "      <td>249.834911</td>\n",
       "      <td>169.951073</td>\n",
       "      <td>4516.856343</td>\n",
       "      <td>6639.960458</td>\n",
       "    </tr>\n",
       "    <tr>\n",
       "      <th>5</th>\n",
       "      <td>992.721500</td>\n",
       "      <td>336</td>\n",
       "      <td>387.599359</td>\n",
       "      <td>286.187623</td>\n",
       "      <td>858.003747</td>\n",
       "      <td>1162.040827</td>\n",
       "    </tr>\n",
       "    <tr>\n",
       "      <th>6</th>\n",
       "      <td>1087.455800</td>\n",
       "      <td>257</td>\n",
       "      <td>302.211810</td>\n",
       "      <td>213.574668</td>\n",
       "      <td>921.170767</td>\n",
       "      <td>1303.472401</td>\n",
       "    </tr>\n",
       "    <tr>\n",
       "      <th>7</th>\n",
       "      <td>1149.040157</td>\n",
       "      <td>226</td>\n",
       "      <td>268.437839</td>\n",
       "      <td>185.348344</td>\n",
       "      <td>963.105785</td>\n",
       "      <td>1394.854843</td>\n",
       "    </tr>\n",
       "    <tr>\n",
       "      <th>8</th>\n",
       "      <td>2365.777902</td>\n",
       "      <td>180</td>\n",
       "      <td>217.940765</td>\n",
       "      <td>143.844791</td>\n",
       "      <td>1943.070379</td>\n",
       "      <td>2943.966485</td>\n",
       "    </tr>\n",
       "  </tbody>\n",
       "</table>\n",
       "</div>"
      ],
      "text/plain": [
       "              var  count        ch_l        ch_u         left        right\n",
       "code                                                                      \n",
       "1     2462.095507    272  318.493509  227.293087  2094.949704  2935.539707\n",
       "2      871.338752    215  256.407893  175.378164   727.226026  1063.225252\n",
       "3     4980.628075    345  397.276692  294.510332  4312.702181  5817.575378\n",
       "4     5425.328855    209  249.834911  169.951073  4516.856343  6639.960458\n",
       "5      992.721500    336  387.599359  286.187623   858.003747  1162.040827\n",
       "6     1087.455800    257  302.211810  213.574668   921.170767  1303.472401\n",
       "7     1149.040157    226  268.437839  185.348344   963.105785  1394.854843\n",
       "8     2365.777902    180  217.940765  143.844791  1943.070379  2943.966485"
      ]
     },
     "execution_count": 43,
     "metadata": {},
     "output_type": "execute_result"
    }
   ],
   "source": [
    "df_agg = df.groupby('code')['price'].agg(['var', 'count'])\n",
    "\n",
    "alpha = 0.05\n",
    "df_agg['ch_l'] = df_agg['count'].apply(lambda w: sts.chi2.ppf(1-alpha/2, df = w - 1))\n",
    "df_agg['ch_u'] = df_agg['count'].apply(lambda w: sts.chi2.ppf(alpha/2, df = w - 1))\n",
    "\n",
    "df_agg['left'] =  (df_agg['count'] - 1) * df_agg['var']/df_agg['ch_l']\n",
    "df_agg['right'] =  (df_agg['count'] - 1) * df_agg['var']/df_agg['ch_u']\n",
    "\n",
    "df_agg"
   ]
  },
  {
   "cell_type": "code",
   "execution_count": 44,
   "id": "6507b441-5054-49df-8fd7-9f2a835fb032",
   "metadata": {},
   "outputs": [
    {
     "data": {
      "image/png": "[encoded data removed]",
      "text/plain": [
       "<Figure size 720x360 with 1 Axes>"
      ]
     },
     "metadata": {
      "needs_background": "light"
     },
     "output_type": "display_data"
    }
   ],
   "source": [
    "district = [\n",
    "    'Север, Калужско-Рижская', 'Север, Серпуховско-Тимирязевская', \n",
    "    'Северо-запад, Замоскворецкая', 'Северо-запад, Таганско-Краснопресненская', \n",
    "    'Юго-восток, Люблинская', 'Юго-восток, Таганско-Краснопресненская',\n",
    "    'Восток, Калиниская', 'Восток, Арбатско-Покровская'\n",
    "]\n",
    "\n",
    "center = df_agg['var'].values\n",
    "step = np.array([df_agg['var'].values - df_agg['left'].values, \n",
    "                 df_agg['right'].values - df_agg['var'].values])\n",
    "\n",
    "var_hat = df.price.var()\n",
    "\n",
    "plt.figure(figsize=(10,5))\n",
    "\n",
    "plt.errorbar(center, np.arange(center.size),  xerr = step, \n",
    "             capsize=0, fmt=\"o\", color='blue')\n",
    "\n",
    "plt.yticks(np.arange(center.size - 1, -1, -1), district, fontsize=12);\n",
    "plt.axvline(var_hat, 0, color='grey');"
   ]
  },
  {
   "cell_type": "markdown",
   "id": "0c17cfd4-d96e-4e7b-a0a7-eb860ee5f011",
   "metadata": {},
   "source": [
    "__Выводы:__\n",
    "\n",
    "- На Юго-Востоке самый большой разброс в ценах. Как покупатель, я найду здесь более разнообразные предложения. Так происходит из-за того, что с одной стороны районы близки к центру и здесь есть респектабельная недвижимость. С другой стороны, в районах довольно много советской застройки с плохой планировкой и ремонтом."
   ]
  },
  {
   "cell_type": "markdown",
   "id": "692c7cbb-9319-423f-89ec-dd3c45f2f5fc",
   "metadata": {},
   "source": [
    "---"
   ]
  },
  {
   "cell_type": "markdown",
   "id": "d705b378-1f4a-44e1-99d7-dbf965bcb249",
   "metadata": {},
   "source": [
    "## 4. Доверительный интервал для отношения дисперсий\n",
    "\n",
    "Предполагая нормальность распределения, построим $95\\%$-ый доверительный интервал для отношения дисперсии стоимости квартир в монолитных домах и в панельных домах.\n",
    "\n",
    "$$\n",
    "\\left( \\frac{s_x^2}{s_y^2} \\cdot F_{\\frac{\\alpha}{2}}(n_y-1, n_x-1) \\leq \\frac{\\sigma_x^2}{\\sigma_y^2} \\leq \\frac{s_x^2}{s_y^2} \\cdot F_{1-\\frac{\\alpha}{2}}(n_y-1, n_x-1) \\right)\n",
    "$$\n",
    "\n",
    "__Определение:__ случайная величина \n",
    "\n",
    "$$\n",
    "Y = \\frac{\\frac{\\chi^2_k}{k}}{\\frac{\\chi^2_m}{m}}\n",
    "$$\n",
    "\n",
    "имеет распределение Фишера с $k$ и $m$ степенями свободы, $Y \\sim F(k,m)$"
   ]
  },
  {
   "cell_type": "code",
   "execution_count": 144,
   "id": "b3d64ad1-1ad3-4e34-86f6-b24e19465aba",
   "metadata": {},
   "outputs": [
    {
     "data": {
      "image/png": "[encoded data removed]",
      "text/plain": [
       "<Figure size 576x360 with 1 Axes>"
      ]
     },
     "metadata": {
      "needs_background": "light"
     },
     "output_type": "display_data"
    }
   ],
   "source": [
    "plt.figure(figsize=(8, 5))\n",
    "x_f = np.linspace(0,5,100)\n",
    "\n",
    "#par = [(1,10),(5,10),(10,10),(10,1),(50,20)]\n",
    "par = [(100,4),(4,100)]\n",
    "\n",
    "for k,m in par:\n",
    "    rv = sts.f(k,m)\n",
    "    pdf = rv.pdf(x_f)\n",
    "    plt.plot(x_f, pdf, label=\"$k={},m={}$\".format(k,m))\n",
    "    \n",
    "plt.xlabel('$x$', fontsize=20)\n",
    "plt.ylabel(r'Probability', fontsize=20)\n",
    "plt.legend(fontsize = 16);"
   ]
  },
  {
   "cell_type": "code",
   "execution_count": 102,
   "id": "be28d944-1be8-4f7a-86d3-42a7eb96eda6",
   "metadata": {},
   "outputs": [
    {
     "name": "stdout",
     "output_type": "stream",
     "text": [
      "Доверительный интервал [0.34243; 0.44536] ширины 0.10293\n"
     ]
    }
   ],
   "source": [
    "alpha = 0.05\n",
    "\n",
    "x = df[df.brick == 1].price.values    # кирпичные и монолитные дома\n",
    "y = df[df.brick == 0].price.values    # панельные дома\n",
    "\n",
    "n, m = x.size - 1, y.size - 1\n",
    "sn, sm = x.var(), y.var()\n",
    "\n",
    "left = sm / sn * sts.f(n, m).ppf(alpha/2)\n",
    "right = sm / sn * sts.f(n, m).ppf(1 - alpha/2)\n",
    "\n",
    "print(\"Доверительный интервал [{:.5}; {:.5}] ширины {:.5}\" \\\n",
    "      .format(left, right, right - left))"
   ]
  },
  {
   "cell_type": "code",
   "execution_count": 150,
   "id": "c118f0ea-dc0b-4c8b-8bf0-cf6981a4bacc",
   "metadata": {},
   "outputs": [
    {
     "data": {
      "text/plain": [
       "(65.30682500498871, 40.842745796012004)"
      ]
     },
     "execution_count": 150,
     "metadata": {},
     "output_type": "execute_result"
    }
   ],
   "source": [
    "x.std(), y.std()"
   ]
  },
  {
   "cell_type": "code",
   "execution_count": 151,
   "id": "58f7b3c5-7447-4148-a74b-06ecdcd7a76f",
   "metadata": {},
   "outputs": [
    {
     "data": {
      "text/plain": [
       "(658, 1380)"
      ]
     },
     "execution_count": 151,
     "metadata": {},
     "output_type": "execute_result"
    }
   ],
   "source": [
    "n, m"
   ]
  },
  {
   "cell_type": "code",
   "execution_count": 148,
   "id": "eb80b3ff-7029-4bf4-862b-a6aedc7ba370",
   "metadata": {},
   "outputs": [
    {
     "data": {
      "text/plain": [
       "(4264.981392232218, 1668.1298841576563)"
      ]
     },
     "execution_count": 148,
     "metadata": {},
     "output_type": "execute_result"
    }
   ],
   "source": [
    "sn, sm"
   ]
  },
  {
   "cell_type": "markdown",
   "id": "41e840be-d764-4f0f-bdd0-67cf3a27e578",
   "metadata": {},
   "source": [
    "__Выводы:__\n",
    "\n",
    "- Единица не попала в доверительный интервал. Дисперсии в ценах на монолитное жильё и на панельное различаются. Цены на монолитное жильё обладают более высокой дисперсией."
   ]
  },
  {
   "cell_type": "code",
   "execution_count": 103,
   "id": "3c77d5af-c1fd-488a-998b-e6691597a81c",
   "metadata": {},
   "outputs": [
    {
     "name": "stdout",
     "output_type": "stream",
     "text": [
      "Sn/Sm = 2.5567, ДИ [2.2454; 2.9203] ширины 0.67492\n"
     ]
    }
   ],
   "source": [
    "left = sn / sm * sts.f(m, n).ppf(alpha/2)\n",
    "right = sn / sm * sts.f(m, n).ppf(1 - alpha/2)\n",
    "\n",
    "print(\"Sn/Sm = {:.5}, ДИ [{:.5}; {:.5}] ширины {:.5}\" \\\n",
    "      .format(sn/sm, left, right, right - left))"
   ]
  },
  {
   "cell_type": "code",
   "execution_count": 156,
   "id": "a3b17e07-8ffb-4c65-9552-8b61840d96f5",
   "metadata": {
    "tags": []
   },
   "outputs": [
    {
     "data": {
      "image/png": "[encoded data removed]",
      "text/plain": [
       "<Figure size 720x360 with 1 Axes>"
      ]
     },
     "metadata": {
      "needs_background": "light"
     },
     "output_type": "display_data"
    }
   ],
   "source": [
    "plt.figure(figsize=(10, 5))\n",
    "\n",
    "x_f = np.linspace(1.5, 3.5, 100)\n",
    "rv = sts.f(m, n)\n",
    "pdf = rv.pdf(sm / sn * x_f)\n",
    "plt.plot(x_f, pdf)\n",
    "\n",
    "xq_l = np.linspace(1.5, left)\n",
    "yq_l = rv.pdf(sm / sn * xq_l)\n",
    "xq_u = np.linspace(right, 3.5)\n",
    "yq_u = rv.pdf(sm / sn * xq_u)\n",
    "\n",
    "\n",
    "plt.fill_between(xq_l, 0, yq_l, color='blue', alpha=0.3)\n",
    "plt.fill_between(xq_u, 0, yq_u, color='blue', alpha=0.3)\n",
    "plt.xlabel('$x$', fontsize=20)\n",
    "plt.ylabel(r'Probability', fontsize=20);"
   ]
  },
  {
   "cell_type": "markdown",
   "id": "34b54748-24eb-44c4-937b-629682c03845",
   "metadata": {},
   "source": [
    "---"
   ]
  },
  {
   "cell_type": "markdown",
   "id": "f0afd1b4-f728-4ac8-9153-3010a225f493",
   "metadata": {},
   "source": [
    "__Пример 4.1__ Кот Василий изучает неравенство в распределении объемов корма между двумя мисками: своей и своего друга - кота Бориса. Василий составил две независимые выборки из объемов поступающего в миски корма. Первая выборка включает 6 наблюдений, а вторая - 11. Предполагается, что объемы корма имеют нормальное распределение с неизвестными параметрами. Исправленная выборочная дисперсия по выборке из объемов корма миске Василия оказалось равно \n",
    "2, а по миске Бориса - 1. Постройте 90%-й доверительный интервал для отношения дисперсий корма и сделайте вывод о наличии либо отсутствии неравенства."
   ]
  },
  {
   "cell_type": "markdown",
   "id": "45e57278-e521-477e-b2cf-ce2a879f9046",
   "metadata": {},
   "source": [
    "$$\n",
    "\\left( \\frac{s_V^2}{s_B^2} \\cdot F_{\\frac{\\alpha}{2}}(n_B-1, n_V-1) \\leq \\frac{\\sigma_V^2}{\\sigma_B^2} \\leq \\frac{s_V^2}{s_B^2} \\cdot F_{1-\\frac{\\alpha}{2}}(n_B-1, n_V-1) \\right)\n",
    "$$"
   ]
  },
  {
   "cell_type": "code",
   "execution_count": 41,
   "id": "9d7981b7-1fb6-4b42-b2cd-0c4b4377d236",
   "metadata": {},
   "outputs": [
    {
     "data": {
      "text/plain": [
       "(0.30067641395130307, 4.73506306969342)"
      ]
     },
     "execution_count": 41,
     "metadata": {},
     "output_type": "execute_result"
    }
   ],
   "source": [
    "alpha = 0.1    # для 90% доверительного интервала\n",
    "\n",
    "n_V = 6\n",
    "n_B = 11\n",
    "\n",
    "s2_V = 2\n",
    "s2_B = 1\n",
    "\n",
    "F_5 = sts.f(n_B - 1, n_V - 1).ppf(alpha/2)\n",
    "F_95 = sts.f(n_B - 1, n_V - 1).ppf(1 - alpha/2)\n",
    "F_5, F_95"
   ]
  },
  {
   "cell_type": "code",
   "execution_count": 45,
   "id": "f5f0c396-0f5b-4f13-a694-909b0435c2ca",
   "metadata": {},
   "outputs": [
    {
     "name": "stdout",
     "output_type": "stream",
     "text": [
      "S2_V/S2_B = 2.0, ДИ [0.60135; 9.4701] ширины 8.8688\n"
     ]
    }
   ],
   "source": [
    "left = s2_V / s2_B * F_5\n",
    "right = s2_V / s2_B * F_95\n",
    "\n",
    "print(\"S2_V/S2_B = {:.5}, ДИ [{:.5}; {:.5}] ширины {:.5}\" \\\n",
    "      .format(s2_V/s2_B, left, right, right - left))"
   ]
  },
  {
   "cell_type": "code",
   "execution_count": 46,
   "id": "4f6b13e0-766c-4401-b263-31290c63c3bd",
   "metadata": {},
   "outputs": [
    {
     "name": "stdout",
     "output_type": "stream",
     "text": [
      "S2_V/S2_B = 0.5, ДИ [0.1056; 1.6629] ширины 1.5573\n"
     ]
    }
   ],
   "source": [
    "left = s2_B / s2_V * sts.f(n_V - 1, n_B - 1).ppf(alpha/2)\n",
    "right = s2_B / s2_V * sts.f(n_V - 1, n_B - 1).ppf(1 - alpha/2)\n",
    "\n",
    "print(\"S2_V/S2_B = {:.5}, ДИ [{:.5}; {:.5}] ширины {:.5}\" \\\n",
    "      .format(s2_B/s2_V, left, right, right - left))"
   ]
  },
  {
   "cell_type": "markdown",
   "id": "ad32b29e-12be-4a52-ae3f-18be1ac58a6e",
   "metadata": {},
   "source": [
    "---"
   ]
  },
  {
   "cell_type": "markdown",
   "id": "780dfd8f-1920-4fa5-9387-0d676c5ca148",
   "metadata": {},
   "source": [
    "---"
   ]
  },
  {
   "cell_type": "markdown",
   "id": "e5a3db04-e937-43e2-bfe7-47ac0d5af5af",
   "metadata": {},
   "source": [
    "__А можно ли было пользоваться нормальным распределением?__\n",
    "\n",
    "Распределение цен выглядит не очень нормальным."
   ]
  },
  {
   "cell_type": "code",
   "execution_count": 159,
   "id": "4cfc872c-738f-4514-95ef-96fd2eb63702",
   "metadata": {},
   "outputs": [
    {
     "data": {
      "image/png": "[encoded data removed]",
      "text/plain": [
       "<Figure size 432x288 with 1 Axes>"
      ]
     },
     "metadata": {
      "needs_background": "light"
     },
     "output_type": "display_data"
    }
   ],
   "source": [
    "df.price.hist(bins=50,density=True);"
   ]
  },
  {
   "cell_type": "markdown",
   "id": "d32becd8-3b6b-4b65-88eb-00ab8da77961",
   "metadata": {},
   "source": [
    "Распределение логарифмов цен оказывается более похожим на нормальное."
   ]
  },
  {
   "cell_type": "code",
   "execution_count": 34,
   "id": "cd56d33a-34cf-4ed5-b9ba-c99d2c526b53",
   "metadata": {},
   "outputs": [
    {
     "data": {
      "image/png": "[encoded data removed]",
      "text/plain": [
       "<Figure size 432x288 with 1 Axes>"
      ]
     },
     "metadata": {
      "needs_background": "light"
     },
     "output_type": "display_data"
    }
   ],
   "source": [
    "df.price.apply(np.log).hist(bins=50, density=True);\n",
    "\n",
    "x = df.price.apply(np.log).values\n",
    "\n",
    "xs = np.linspace(3.5, 7, 300)\n",
    "ys = sts.norm(loc=np.mean(x), scale=np.std(x, ddof=1)).pdf(xs)\n",
    "plt.plot(xs, ys, color=\"black\");"
   ]
  },
  {
   "cell_type": "markdown",
   "id": "538e679b-b16c-40b3-a0cb-6978d8a12e51",
   "metadata": {},
   "source": [
    "Можно формально проверить гипотезу о том, имеет ли какая-то выборка нормальное распределение с помошью теста Колмогорова-Смирнова. О нём мы подробнее поговорим в будущем, а сейчас просто воспользуемся."
   ]
  },
  {
   "cell_type": "code",
   "execution_count": 36,
   "id": "b5c31c73-298e-4ad2-836a-037fcd4770c1",
   "metadata": {},
   "outputs": [
    {
     "data": {
      "text/plain": [
       "KstestResult(statistic=0.1508501598050489, pvalue=5.415515510735646e-41)"
      ]
     },
     "execution_count": 36,
     "metadata": {},
     "output_type": "execute_result"
    }
   ],
   "source": [
    "sts.kstest(df.price, 'norm', args=(df.price.mean(), df.price.std(ddof=1)))"
   ]
  },
  {
   "cell_type": "code",
   "execution_count": 37,
   "id": "bf8ad267-f0de-47c3-b4cb-7553f0045351",
   "metadata": {},
   "outputs": [
    {
     "data": {
      "text/plain": [
       "KstestResult(statistic=0.07697286130504083, pvalue=5.856877429594e-11)"
      ]
     },
     "execution_count": 37,
     "metadata": {},
     "output_type": "execute_result"
    }
   ],
   "source": [
    "sts.kstest(x, 'norm', args=(np.mean(x), np.std(x, ddof=1)))"
   ]
  },
  {
   "cell_type": "markdown",
   "id": "32ea13a4-3297-48ae-b305-ee3695e1b17f",
   "metadata": {},
   "source": [
    "В обоих ситуациях pvalue очень низкое, это говорит о том, что выборка не распределена нормально."
   ]
  },
  {
   "cell_type": "markdown",
   "id": "6b02e4cd-304b-4901-9bcc-25af60f6df36",
   "metadata": {},
   "source": [
    "---"
   ]
  },
  {
   "cell_type": "markdown",
   "id": "0314d025-b13f-4cc4-87b6-c4ccef456bdd",
   "metadata": {},
   "source": [
    "---"
   ]
  },
  {
   "cell_type": "markdown",
   "id": "e9f3fa6b-6515-45d8-b008-7768ff2fb157",
   "metadata": {},
   "source": [
    "Преобразование Бокса-Кокса:\n",
    "\n",
    "$$\n",
    "\\begin{equation*}\n",
    " Y = X^{\\lambda} = \n",
    " \\begin{cases}\n",
    "   \\frac{X^{\\lambda} - 1}{\\lambda}, & \\lambda \\neq 0 \\\\\n",
    "   \\log(X), & \\lambda = 0\n",
    " \\end{cases}\n",
    "\\end{equation*}\n",
    "$$"
   ]
  },
  {
   "cell_type": "markdown",
   "id": "b20ce472-ecda-4ff7-8678-acc13e982e51",
   "metadata": {},
   "source": [
    "Пусть имеется 2 города, $A$ и $B$, населением по 100 тысяч человек. В них имеется распределение зарплат:"
   ]
  },
  {
   "cell_type": "code",
   "execution_count": 153,
   "id": "25c0f078-b1c8-4173-8c79-af63a2ab80cc",
   "metadata": {},
   "outputs": [
    {
     "name": "stdout",
     "output_type": "stream",
     "text": [
      "E(A)=37.43, Var(A)=129.1; E(B)=43.6, Var(b)=254.6\n"
     ]
    },
    {
     "data": {
      "image/png": "[encoded data removed]",
      "text/plain": [
       "<Figure size 1080x360 with 2 Axes>"
      ]
     },
     "metadata": {
      "needs_background": "light"
     },
     "output_type": "display_data"
    }
   ],
   "source": [
    "lognorm_A = sts.lognorm(s = 0.48, loc = 15, scale = 20)\n",
    "lognorm_B = sts.lognorm(s = 0.52, loc = 15, scale = 25)\n",
    "\n",
    "n_obs = 10**5\n",
    "\n",
    "A = lognorm_A.rvs(n_obs)\n",
    "B = lognorm_B.rvs(n_obs)\n",
    "\n",
    "fig, ax=plt.subplots(1,2)\n",
    "sns.histplot(A, ax=ax[0], bins = 50, color = 'teal')\n",
    "sns.histplot(B, ax=ax[1], bins = 50, color = 'blue')\n",
    "fig.set_figheight(5)\n",
    "fig.set_figwidth(15)\n",
    "\n",
    "print(\"E(A)={:.4}, Var(A)={:.4}; E(B)={:.4}, Var(b)={:.4}\" \\\n",
    "      .format(A.mean(), A.var(), B.mean(), B.var()))"
   ]
  },
  {
   "cell_type": "code",
   "execution_count": 162,
   "id": "0006dcf7-66b1-490f-8ebc-e05ce617e155",
   "metadata": {},
   "outputs": [
    {
     "name": "stdout",
     "output_type": "stream",
     "text": [
      "L_a=-0.7331, L_b=-0.5999\n"
     ]
    },
    {
     "data": {
      "image/png": "[encoded data removed]",
      "text/plain": [
       "<Figure size 1080x360 with 2 Axes>"
      ]
     },
     "metadata": {
      "needs_background": "light"
     },
     "output_type": "display_data"
    }
   ],
   "source": [
    "A_box, a_lambda = sts.boxcox(A)\n",
    "B_box, b_lambda = sts.boxcox(B)\n",
    "\n",
    "fig, ax=plt.subplots(1,2)\n",
    "sns.histplot(A_box, ax=ax[0], bins = 50, color = 'teal')\n",
    "sns.histplot(B_box, ax=ax[1], bins = 50, color = 'blue')\n",
    "fig.set_figheight(5)\n",
    "fig.set_figwidth(15)\n",
    "print(\"L_a={:.4}, L_b={:.4}\".format(a_lambda, b_lambda) )"
   ]
  },
  {
   "cell_type": "code",
   "execution_count": 163,
   "id": "f9c95423-6be9-43ce-bd14-18d71da0f331",
   "metadata": {},
   "outputs": [
    {
     "name": "stdout",
     "output_type": "stream",
     "text": [
      "Доверительный интервал [6.048; 6.294] ширины 0.2458\n"
     ]
    }
   ],
   "source": [
    "n_A,n_B = A.size, B.size\n",
    "\n",
    "diff = B.mean() - A.mean() \n",
    "\n",
    "diff_sd = np.sqrt(A.var(ddof=1)/n_A + B.var(ddof=1)/n_B)\n",
    "\n",
    "left, right = sts.t.interval(0.95, df=99, loc=diff, scale=diff_sd)\n",
    "print(\"Доверительный интервал [{:.4}; {:.4}] ширины {:.4}\" \\\n",
    "      .format(left, right, right - left))"
   ]
  },
  {
   "cell_type": "code",
   "execution_count": 165,
   "id": "154f0ef9-4877-4f7b-b152-0c0cef69be2c",
   "metadata": {},
   "outputs": [
    {
     "name": "stdout",
     "output_type": "stream",
     "text": [
      "S2_B/S2_A = 1.973, ДИ [1.9487; 1.9976] ширины 0.048916\n"
     ]
    }
   ],
   "source": [
    "F_5 = sts.f(n_A - 1, n_A - 1).ppf(alpha/2)\n",
    "F_95 = sts.f(n_A - 1, n_A - 1).ppf(1 - alpha/2)\n",
    "\n",
    "s2_A = A.var(ddof=1)\n",
    "s2_B = B.var(ddof=1)\n",
    "\n",
    "left = s2_B / s2_A * F_5\n",
    "right = s2_B / s2_A * F_95\n",
    "\n",
    "print(\"S2_B/S2_A = {:.5}, ДИ [{:.5}; {:.5}] ширины {:.5}\" \\\n",
    "      .format(s2_B/s2_A, left, right, right - left))\n"
   ]
  },
  {
   "cell_type": "markdown",
   "id": "2fc6ad33-5aea-4e3f-b045-d492f12b5c49",
   "metadata": {},
   "source": [
    "Формируем выборки объёма $n = 100$"
   ]
  },
  {
   "cell_type": "code",
   "execution_count": 156,
   "id": "6751cf42-f422-4703-b34e-26b068df31a8",
   "metadata": {},
   "outputs": [
    {
     "data": {
      "image/png": "[encoded data removed]",
      "text/plain": [
       "<Figure size 720x720 with 4 Axes>"
      ]
     },
     "metadata": {
      "needs_background": "light"
     },
     "output_type": "display_data"
    }
   ],
   "source": [
    "n = 100\n",
    "\n",
    "smpl_A = np.random.choice(A, size = n)\n",
    "smpl_B = np.random.choice(B, size = n)\n",
    "\n",
    "smpl_A_box, L_sa = sts.boxcox(smpl_A)\n",
    "smpl_B_box, L_sb = sts.boxcox(smpl_B)\n",
    "\n",
    "fig, ax=plt.subplots(2,2)\n",
    "sns.histplot(smpl_A, ax=ax[0][0], bins = 50, color = 'teal')\n",
    "sns.histplot(smpl_A_box, ax=ax[0][1], bins = 50, color = 'blue')\n",
    "sns.histplot(smpl_B, ax=ax[1][0], bins = 50, color = 'teal')\n",
    "sns.histplot(smpl_B_box, ax=ax[1][1], bins = 50, color = 'blue')\n",
    "fig.set_figheight(10)\n",
    "fig.set_figwidth(10)"
   ]
  },
  {
   "cell_type": "code",
   "execution_count": 157,
   "id": "7fe9da70-7492-4ec7-aa60-d2dddff22f78",
   "metadata": {},
   "outputs": [
    {
     "data": {
      "text/plain": [
       "(2.260440476483567, 2.9245837480096815)"
      ]
     },
     "execution_count": 157,
     "metadata": {},
     "output_type": "execute_result"
    }
   ],
   "source": [
    "smpl_A_box.mean(),smpl_B_box.mean()"
   ]
  },
  {
   "cell_type": "code",
   "execution_count": 159,
   "id": "49b6f64d-92ac-4009-b442-38a60eb74b9b",
   "metadata": {},
   "outputs": [
    {
     "data": {
      "text/plain": [
       "(0.010963397231287926, 0.0354764424127577)"
      ]
     },
     "execution_count": 159,
     "metadata": {},
     "output_type": "execute_result"
    }
   ],
   "source": [
    "smpl_A_box.var(ddof=1),smpl_B_box.var(ddof=1)"
   ]
  },
  {
   "cell_type": "code",
   "execution_count": 167,
   "id": "0c57a06f-64ff-45f4-b306-0af8cb52fca8",
   "metadata": {},
   "outputs": [
    {
     "name": "stdout",
     "output_type": "stream",
     "text": [
      "Доверительный интервал [0.6216; 0.7066] ширины 0.08499\n"
     ]
    }
   ],
   "source": [
    "n_sA,n_sB = smpl_A_box.size, smpl_B_box.size\n",
    "\n",
    "diff_s = smpl_B_box.mean() - smpl_A_box.mean() \n",
    "\n",
    "diff_sd_s = np.sqrt(smpl_A_box.var(ddof=1)/n_sA + smpl_B_box.var(ddof=1)/n_sB)\n",
    "\n",
    "left_s, right_s = sts.t.interval(0.95, df=(n_sA + n_sB -2), loc=diff_s, scale=diff_sd_s)\n",
    "print(\"Доверительный интервал [{:.4}; {:.4}] ширины {:.4}\" \\\n",
    "      .format(left_s, right_s, right_s - left_s))"
   ]
  },
  {
   "cell_type": "code",
   "execution_count": 168,
   "id": "3af0b6c9-fc3b-442a-af43-9e4041a918d6",
   "metadata": {},
   "outputs": [
    {
     "name": "stdout",
     "output_type": "stream",
     "text": [
      "S2_sB/S2_sA = 3.2359, ДИ [2.1772; 4.8093] ширины 2.6321\n"
     ]
    }
   ],
   "source": [
    "F_5 = sts.f(n_sA - 1, n_sA - 1).ppf(alpha/2)\n",
    "F_95 = sts.f(n_sA - 1, n_sA - 1).ppf(1 - alpha/2)\n",
    "\n",
    "s2_sA = smpl_A_box.var(ddof=1)\n",
    "s2_sB = smpl_B_box.var(ddof=1)\n",
    "\n",
    "left = s2_sB / s2_sA * F_5\n",
    "right = s2_sB / s2_sA * F_95\n",
    "\n",
    "print(\"S2_sB/S2_sA = {:.5}, ДИ [{:.5}; {:.5}] ширины {:.5}\" \\\n",
    "      .format(s2_sB/s2_sA, left, right, right - left))"
   ]
  },
  {
   "cell_type": "markdown",
   "id": "1ad9f309-a3ea-4e3c-bed7-33998bf026cb",
   "metadata": {},
   "source": [
    "---"
   ]
  },
  {
   "cell_type": "markdown",
   "id": "cc300761-8e45-4d14-9b9f-08d53e79506b",
   "metadata": {},
   "source": [
    "---"
   ]
  },
  {
   "cell_type": "markdown",
   "id": "7e1c8b4c-d9ad-4b44-8cff-c87de74da348",
   "metadata": {},
   "source": [
    "# Подборка формул:\n",
    "\n",
    "__Доверительный интервал для математического ожидания при известной дисперсии $\\sigma^2$__\n",
    "\n",
    "$$\n",
    "\\left( \\bar X - Z_{1-\\frac{\\alpha}{2}} \\frac{\\sigma}{\\sqrt{n}} \\leq \\mu \\leq \\bar X + Z_{1-\\frac{\\alpha}{2}} \\frac{\\sigma}{\\sqrt{n}}  \\right)\n",
    "$$\n",
    "\n",
    "__Доверительный интервал для математического ожидания при неизвестной дисперсии__\n",
    "\n",
    "$$\n",
    "\\left( \\bar X - t_{1-\\frac{\\alpha}{2}}(n-1) \\frac{s}{\\sqrt{n}} \\leq \\mu \\leq \\bar X + t_{1-\\frac{\\alpha}{2}}(n-1) \\frac{s}{\\sqrt{n}}  \\right)\n",
    "$$\n",
    "\n",
    "\n",
    "__Доверительный интервал для разницы мат. ожиданий при известных дисперсиях $\\sigma_x^2$, $\\sigma_y^2$__\n",
    "\n",
    "$$\n",
    "\\left( (\\bar X - \\bar Y) - Z_{1-\\frac{\\alpha}{2}} \\sqrt{\\frac{\\sigma_x^2}{n} + \\frac{\\sigma_y^2}{m} } \\leq \\mu_x - \\mu_y \\leq (\\bar X - \\bar Y) + Z_{1-\\frac{\\alpha}{2}} \\sqrt{\\frac{\\sigma_x^2}{n} + \\frac{\\sigma_y^2}{m} }  \\right) \n",
    "$$\n",
    "\n",
    "__Доверительный интервал для разницы математических ожиданий при равных неизвестных дисперсиях__\n",
    "\n",
    "$$\n",
    "\\left( (\\bar X - \\bar Y) - t_{1-\\frac{\\alpha}{2}}(n+m-2) \\sqrt{\\frac{\\hat S^2}{n}+\\frac{\\hat S^2}{m}} \\leq \\mu_x - \\mu_y \\leq (\\bar X - \\bar Y) + t_{1-\\frac{\\alpha}{2}}(n+m-2) \\sqrt{\\frac{\\hat S^2}{n}+\\frac{\\hat S^2}{m}} \\right)\n",
    "$$\n",
    "\n",
    "$$\n",
    "\\hat S^2 = \\frac{(n-1)s_x^2 + (m-1)s_y^2}{(n-1)+(m-1)}\n",
    "$$\n",
    "\n",
    "__Доверительный интервал для дисперсии при неизвестном математическом ожидании__\n",
    "\n",
    "$$\n",
    "\\left( \\frac{(n-1)s^2}{\\chi_{1-\\frac{\\alpha}{2}}^2(n-1)} \\leq \\sigma^2 \\leq \\frac{(n-1)s^2}{\\chi_{\\frac{\\alpha}{2}}^2(n-1)} \\right)\n",
    "$$\n",
    "\n",
    "__Доверительный интервал для отношения дисперсий при неизвестных математических ожиданиях__\n",
    "\n",
    "$$\n",
    "\\left( F_{\\frac{\\alpha}{2}}(n_y-1, n_x-1)\\frac{s_x^2}{s_y^2} \\leq \\frac{\\sigma_x^2}{\\sigma_y^2} \\leq F_{1-\\frac{\\alpha}{2}}(n_y-1, n_x-1)\\frac{s_x^2}{s_y^2} \\right)\n",
    "$$"
   ]
  },
  {
   "cell_type": "markdown",
   "id": "16175c09-3369-4e7c-b554-febb1ed7c7cb",
   "metadata": {},
   "source": [
    "---"
   ]
  },
  {
   "cell_type": "markdown",
   "id": "1bf2e7e0-de2d-4b6c-a0d8-62bb7a3c6066",
   "metadata": {},
   "source": [
    "---"
   ]
  },
  {
   "cell_type": "markdown",
   "id": "b9ceed24-97b7-40df-905f-f4608803f3de",
   "metadata": {},
   "source": [
    "# Домашнее задание <a class=\"anchor\" id=\"HW\"></a>\n",
    "\n",
    "Выручка фирмы в любой день является нормально распределенной случайной величиной с математическим ожиданием $\\mu_X$ и дисперсией $\\sigma_X^2$. При этом она не зависит от выручки, полученной в предыдущие дни. В первый день фирма заработала 10 денежных единиц, во второй 12, в третий 15, в четвертый 18 и в пятый 25. Издержки фирмы, которые также имеют нормальное распределение $N(\\mu_Y, \\sigma_Y^2)$ и не зависят от выручки, в соответствующие дни составили 5, 10, 15, 20 и 25 денежных единиц. Известно, что $\\sigma_Y^2 = 0.81\\sigma_X^2$\n",
    "\n",
    "1. Найдите реализацию 60%-го доверительного интервала для математического ожидания дневной выручки фирмы.\n",
    "\n",
    "2. Повторите предыдущий пункт принимая во внимание то, что $\\sigma_X^2 = 30$ (не распространяется на последующие пункты).\n",
    "\n",
    "3. Найдите реализацию 60%-го доверительного интервала для стандартного отклонения дневной выручки фирмы.\n",
    "\n",
    "4. Найдите реализацию 60%-го доверительного интервала для математического ожидания прибыли фирмы, учитывая, что помимо указанных выше издержек она выплачивает налог в размере 10% от выручки.\n",
    "\n",
    "5. Повторите предыдущий пункт учитывая, что $\\sigma_Y^2 = 50$ (не распространяется на последующие пункты)."
   ]
  },
  {
   "cell_type": "code",
   "execution_count": null,
   "id": "bc4b450c-2fc7-4599-9abe-9138c31effa2",
   "metadata": {},
   "outputs": [],
   "source": []
  }
 ],
 "metadata": {
  "kernelspec": {
   "display_name": "Python 3 (ipykernel)",
   "language": "python",
   "name": "python3"
  },
  "language_info": {
   "codemirror_mode": {
    "name": "ipython",
    "version": 3
   },
   "file_extension": ".py",
   "mimetype": "text/x-python",
   "name": "python",
   "nbconvert_exporter": "python",
   "pygments_lexer": "ipython3",
   "version": "3.9.6"
  }
 },
 "nbformat": 4,
 "nbformat_minor": 5
}
