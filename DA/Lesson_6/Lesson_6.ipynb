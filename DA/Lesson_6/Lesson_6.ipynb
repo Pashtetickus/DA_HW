{
 "cells": [
  {
   "cell_type": "markdown",
   "id": "94836f88-6e19-4868-97fa-7e4f268c7fb3",
   "metadata": {},
   "source": [
    "Семинар 6 (неделя 7): Проверка статистических гипотез\n",
    "=====\n",
    "\n",
    "- [Домашнее задание](#HW)"
   ]
  },
  {
   "cell_type": "markdown",
   "id": "89fde2a7-7de6-4613-8fe6-6cef4863ec0b",
   "metadata": {},
   "source": [
    "Проверка статистических гипотез – это пятиступенчатая процедура, которая на основании данных выборки и при помощи теории вероятностей позволяет сделать вывод об обоснованности гипотезы.\n",
    "\n",
    "Другими словами, этот способ проверить, действительны ли результаты, полученные на выборке, и для генеральной совокупности.\n",
    "\n",
    "__Пошаговый алгоритм:__\n",
    "\n",
    "1.Формулировка основной и альтернативной гипотезы  \n",
    "\n",
    "2.Выбор уровня значимости  \n",
    "\n",
    "3.Определение подходящего статистического критерия  \n",
    "\n",
    "4.Формулировка правила принятия решения  \n",
    "\n",
    "5.Принятие решения на основании данных выборки"
   ]
  },
  {
   "cell_type": "code",
   "execution_count": 188,
   "id": "a17e2c09-0a01-4c73-b5f3-e534d713ea2a",
   "metadata": {},
   "outputs": [],
   "source": [
    "# Импорт библиотек для работы со статистикой\n",
    "import numpy as np\n",
    "import pandas as pd\n",
    "import scipy.stats as sts\n",
    "import statsmodels as stm\n",
    "\n",
    "\n",
    "# Импорт библиотек для построения графиков\n",
    "import matplotlib.pyplot as plt\n",
    "import seaborn as sns\n",
    "\n",
    "# Стиль для графиков\n",
    "plt.style.use('ggplot')\n",
    "%matplotlib inline"
   ]
  },
  {
   "cell_type": "code",
   "execution_count": 190,
   "id": "ba7ee111-0e4c-438f-ae9d-02ba73e911a7",
   "metadata": {},
   "outputs": [],
   "source": [
    "def asy_mean_test(mean_hat, std_hat, mu_0=0, \n",
    "                   alpha=0.05, alternative='two-sided', margin=3):\n",
    "    \"\"\"\n",
    "        Асимптотический тест для равенства средних\n",
    "    \"\"\"\n",
    "    \n",
    "    z_obs = (mean_hat - mu_0)/std_hat\n",
    "    \n",
    "    if alternative == 'two-sided':\n",
    "        p_value = 2 * (1 - sts.norm().cdf(np.abs(z_obs)))\n",
    "        z_crit = sts.norm().ppf(1 - alpha/2)\n",
    "        \n",
    "        statistics = ['-z_crit', 'z_crit', '-z_obs', 'z_obs']\n",
    "        params = dict(zip(statistics, [(-z_crit, -0.6, -margin, -z_crit, 'b'), \n",
    "                                       (z_crit, 0.05, z_crit, margin, 'b'),\n",
    "                                       (-z_obs, -0.6, -margin, -z_obs, 'r'), \n",
    "                                       (z_obs, 0.1, z_obs, margin, 'r')]))\n",
    "    \n",
    "    if alternative == 'less':\n",
    "        p_value = sts.norm().cdf(z_obs)\n",
    "        z_crit = sts.norm().ppf(1 - alpha)\n",
    "        \n",
    "        statistics = ['-z_crit', '-z_obs']\n",
    "        params = dict(zip(statistics, [(-z_crit, -0.6, -margin, -z_crit, 'b'), \n",
    "                                       (-z_obs, -0.6, -margin, -z_obs, 'r')]))\n",
    "\n",
    "    if alternative == 'larger':\n",
    "        p_value = 1 - sts.norm().cdf(z_obs)\n",
    "        z_crit = sts.norm().ppf(1 - alpha)\n",
    "        \n",
    "        statistics = ['z_crit', 'z_obs']\n",
    "        params = dict(zip(statistics, [(z_crit, 0.05, z_crit, margin, 'b'),\n",
    "                                       (z_obs, 0.1, z_obs, margin, 'r')]))\n",
    "    \n",
    "    \n",
    "    plt.figure(figsize = (10, 5))\n",
    "    x = np.linspace(-margin, margin)\n",
    "    pdf = sts.norm().pdf(x)\n",
    "\n",
    "    plt.plot(x, pdf, color=\"black\")\n",
    "    plt.ylabel(\"$f(x)$\", fontsize=16)\n",
    "    plt.xlabel(\"$x$\", fontsize=16)\n",
    "    y_max = plt.ylim()[1]\n",
    "    \n",
    "    for i in range(len(statistics)):\n",
    "        statistic, text_margin, left_bound, right_bound, color = params[statistics[i]]\n",
    "        \n",
    "        plt.axvline(statistic, color=color, linestyle=\"--\", lw=2)\n",
    "        h = 0.8 if statistics[i].split('_')[-1] == 'crit' else 0.6\n",
    "        plt.text(statistic + text_margin, \n",
    "                 h*y_max, round(statistic, 2), color=color, fontsize=16)\n",
    "        \n",
    "        xq = np.linspace(left_bound, right_bound)\n",
    "        yq = sts.norm().pdf(xq)\n",
    "        plt.fill_between(xq, 0, yq, color=color, alpha=0.2)\n",
    "    \n",
    "    print(f'p-value = {p_value:.3}')\n",
    "    return p_value"
   ]
  },
  {
   "cell_type": "markdown",
   "id": "be3c2c4c-924b-4de5-a3f4-ecfb64757102",
   "metadata": {},
   "source": [
    "$$\n",
    "\\Large \\bar X \\sim N(\\mu, \\frac{\\sigma^2}{n} )\n",
    "$$\n",
    "\n",
    "$$\n",
    "\\Large Z = \\frac{\\bar x - \\mu_0}{ \\sqrt{\\frac{\\sigma_x^2}{n_x}} } \\sim N(0; 1)\n",
    "$$"
   ]
  },
  {
   "cell_type": "code",
   "execution_count": 191,
   "id": "087ec26e-3659-404a-8ef9-a613812c98e4",
   "metadata": {},
   "outputs": [
    {
     "name": "stdout",
     "output_type": "stream",
     "text": [
      "p-value = 0.211\n"
     ]
    },
    {
     "data": {
      "image/png": "[encoded data removed]",
      "text/plain": [
       "<Figure size 720x360 with 1 Axes>"
      ]
     },
     "metadata": {
      "needs_background": "light"
     },
     "output_type": "display_data"
    }
   ],
   "source": [
    "asy_mean_test(mean_hat = 10, std_hat = 4, \n",
    "              mu_0 = 5, alpha=0.05, alternative='two-sided', margin = 4);"
   ]
  },
  {
   "cell_type": "markdown",
   "id": "af0c104b-29e1-4aa2-973a-c6ffc26f4cf4",
   "metadata": {},
   "source": [
    "## 0. Датасет\n",
    "\n",
    "Бельгийские психологи воплотили дилемму \"проблема вагонетки\" в реальную жизнь. Участники эксперимента должны были выбрать, ударить током пять мышей или одну мышь. Эксперимент проходил следующим образом. Участника сажали перед двумя клетками, в одной из которых сидели пять мышей, а в другой — одна. Перед клетками стоял ноутбук с $20$-секундным таймером: участникам сообщили, что по истечении этих $20$ секунд в клетку с пятью мышами пустят ток, и мыши получат не смертельный, но очень болезненный удар. Пока время идет, участник может нажать на кнопку: в этом случае ток пустят по клетке с одной мышью. В исследовании использовали живых мышей.\n",
    "\n",
    "Удары тока были ненастоящими: сразу же после «удара» участников сопроводили в отдельную комнату, где разъяснили им, что мыши в полном порядке и током их не били (об этом заранее догадались только $12$ участников). В решении реальной проблемы вагонетки приняли участие $192$ человека, а еще $83$ решали такую же задачку, но гипотетическую (на бумаге). Все участники также прошли онлайн-опросы, в ходе которых учёные собрали о респондентах кучу дополнительной информации.\n",
    "\n",
    "В файле mouse.csv лежит информация о том, как прошёл эксперимент. Нас будут интересовать столбцы:\n",
    "\n",
    "__STUDY:__ какую проблему вагонетки решал человек $1$ если реальную, $2$ если на бумаге  \n",
    "__AGE:__ возраст респондента  \n",
    "__GENDER:__ пол респондента  \n",
    "__DECISION:__ решение дилеммы ($1$ - жать на кнопу, $0$ - не жать)  \n",
    "__RT:__ время, которое респондент потратил, чтобы нажать на кнопку  "
   ]
  },
  {
   "cell_type": "code",
   "execution_count": 192,
   "id": "347fab33-25c6-4bbd-ad39-20c8d6a7fca8",
   "metadata": {},
   "outputs": [
    {
     "data": {
      "text/html": [
       "<div>\n",
       "<style scoped>\n",
       "    .dataframe tbody tr th:only-of-type {\n",
       "        vertical-align: middle;\n",
       "    }\n",
       "\n",
       "    .dataframe tbody tr th {\n",
       "        vertical-align: top;\n",
       "    }\n",
       "\n",
       "    .dataframe thead th {\n",
       "        text-align: right;\n",
       "    }\n",
       "</style>\n",
       "<table border=\"1\" class=\"dataframe\">\n",
       "  <thead>\n",
       "    <tr style=\"text-align: right;\">\n",
       "      <th></th>\n",
       "      <th>STUDY</th>\n",
       "      <th>AGE</th>\n",
       "      <th>GENDER</th>\n",
       "      <th>DECISION</th>\n",
       "      <th>DEO1</th>\n",
       "      <th>DEO2</th>\n",
       "      <th>DEO3</th>\n",
       "      <th>DEO4</th>\n",
       "      <th>DEO5</th>\n",
       "      <th>DEO6</th>\n",
       "      <th>...</th>\n",
       "      <th>AE</th>\n",
       "      <th>MOUSE1</th>\n",
       "      <th>MOUSE2</th>\n",
       "      <th>MOUSE3</th>\n",
       "      <th>MOUSE</th>\n",
       "      <th>DOUBT</th>\n",
       "      <th>OTHERCHOICE</th>\n",
       "      <th>UNCOMFORTABLE</th>\n",
       "      <th>NOSHOCK</th>\n",
       "      <th>RT</th>\n",
       "    </tr>\n",
       "  </thead>\n",
       "  <tbody>\n",
       "    <tr>\n",
       "      <th>0</th>\n",
       "      <td>1</td>\n",
       "      <td>38</td>\n",
       "      <td>1</td>\n",
       "      <td>NaN</td>\n",
       "      <td>2</td>\n",
       "      <td>2</td>\n",
       "      <td>2</td>\n",
       "      <td>1</td>\n",
       "      <td>2</td>\n",
       "      <td>2</td>\n",
       "      <td>...</td>\n",
       "      <td>5.000000</td>\n",
       "      <td>6.0</td>\n",
       "      <td>5.0</td>\n",
       "      <td>5.0</td>\n",
       "      <td>5.333333</td>\n",
       "      <td>NaN</td>\n",
       "      <td>NaN</td>\n",
       "      <td>NaN</td>\n",
       "      <td>NaN</td>\n",
       "      <td>NaN</td>\n",
       "    </tr>\n",
       "    <tr>\n",
       "      <th>1</th>\n",
       "      <td>1</td>\n",
       "      <td>22</td>\n",
       "      <td>1</td>\n",
       "      <td>NaN</td>\n",
       "      <td>1</td>\n",
       "      <td>2</td>\n",
       "      <td>2</td>\n",
       "      <td>1</td>\n",
       "      <td>2</td>\n",
       "      <td>1</td>\n",
       "      <td>...</td>\n",
       "      <td>5.727273</td>\n",
       "      <td>5.0</td>\n",
       "      <td>6.0</td>\n",
       "      <td>6.0</td>\n",
       "      <td>5.666667</td>\n",
       "      <td>NaN</td>\n",
       "      <td>NaN</td>\n",
       "      <td>NaN</td>\n",
       "      <td>NaN</td>\n",
       "      <td>NaN</td>\n",
       "    </tr>\n",
       "    <tr>\n",
       "      <th>2</th>\n",
       "      <td>1</td>\n",
       "      <td>39</td>\n",
       "      <td>1</td>\n",
       "      <td>NaN</td>\n",
       "      <td>1</td>\n",
       "      <td>1</td>\n",
       "      <td>3</td>\n",
       "      <td>5</td>\n",
       "      <td>3</td>\n",
       "      <td>1</td>\n",
       "      <td>...</td>\n",
       "      <td>5.545455</td>\n",
       "      <td>6.0</td>\n",
       "      <td>6.0</td>\n",
       "      <td>6.0</td>\n",
       "      <td>6.000000</td>\n",
       "      <td>NaN</td>\n",
       "      <td>NaN</td>\n",
       "      <td>NaN</td>\n",
       "      <td>NaN</td>\n",
       "      <td>NaN</td>\n",
       "    </tr>\n",
       "    <tr>\n",
       "      <th>3</th>\n",
       "      <td>1</td>\n",
       "      <td>21</td>\n",
       "      <td>0</td>\n",
       "      <td>1.0</td>\n",
       "      <td>2</td>\n",
       "      <td>3</td>\n",
       "      <td>3</td>\n",
       "      <td>3</td>\n",
       "      <td>3</td>\n",
       "      <td>2</td>\n",
       "      <td>...</td>\n",
       "      <td>5.136364</td>\n",
       "      <td>4.0</td>\n",
       "      <td>7.0</td>\n",
       "      <td>7.0</td>\n",
       "      <td>6.000000</td>\n",
       "      <td>2.0</td>\n",
       "      <td>0.0</td>\n",
       "      <td>6.0</td>\n",
       "      <td>80.0</td>\n",
       "      <td>9.212427</td>\n",
       "    </tr>\n",
       "    <tr>\n",
       "      <th>4</th>\n",
       "      <td>1</td>\n",
       "      <td>20</td>\n",
       "      <td>0</td>\n",
       "      <td>1.0</td>\n",
       "      <td>4</td>\n",
       "      <td>2</td>\n",
       "      <td>2</td>\n",
       "      <td>2</td>\n",
       "      <td>2</td>\n",
       "      <td>2</td>\n",
       "      <td>...</td>\n",
       "      <td>4.181818</td>\n",
       "      <td>4.0</td>\n",
       "      <td>6.0</td>\n",
       "      <td>6.0</td>\n",
       "      <td>5.333333</td>\n",
       "      <td>4.0</td>\n",
       "      <td>0.0</td>\n",
       "      <td>6.5</td>\n",
       "      <td>75.0</td>\n",
       "      <td>17.071711</td>\n",
       "    </tr>\n",
       "  </tbody>\n",
       "</table>\n",
       "<p>5 rows × 132 columns</p>\n",
       "</div>"
      ],
      "text/plain": [
       "   STUDY  AGE  GENDER  DECISION  DEO1  DEO2  DEO3  DEO4  DEO5  DEO6  ...  \\\n",
       "0      1   38       1       NaN     2     2     2     1     2     2  ...   \n",
       "1      1   22       1       NaN     1     2     2     1     2     1  ...   \n",
       "2      1   39       1       NaN     1     1     3     5     3     1  ...   \n",
       "3      1   21       0       1.0     2     3     3     3     3     2  ...   \n",
       "4      1   20       0       1.0     4     2     2     2     2     2  ...   \n",
       "\n",
       "         AE  MOUSE1  MOUSE2  MOUSE3     MOUSE  DOUBT  OTHERCHOICE  \\\n",
       "0  5.000000     6.0     5.0     5.0  5.333333    NaN          NaN   \n",
       "1  5.727273     5.0     6.0     6.0  5.666667    NaN          NaN   \n",
       "2  5.545455     6.0     6.0     6.0  6.000000    NaN          NaN   \n",
       "3  5.136364     4.0     7.0     7.0  6.000000    2.0          0.0   \n",
       "4  4.181818     4.0     6.0     6.0  5.333333    4.0          0.0   \n",
       "\n",
       "   UNCOMFORTABLE  NOSHOCK         RT  \n",
       "0            NaN      NaN        NaN  \n",
       "1            NaN      NaN        NaN  \n",
       "2            NaN      NaN        NaN  \n",
       "3            6.0     80.0   9.212427  \n",
       "4            6.5     75.0  17.071711  \n",
       "\n",
       "[5 rows x 132 columns]"
      ]
     },
     "execution_count": 192,
     "metadata": {},
     "output_type": "execute_result"
    }
   ],
   "source": [
    "df = pd.read_csv(\"mouse.csv\", sep=\";\")\n",
    "df.head()"
   ]
  },
  {
   "cell_type": "code",
   "execution_count": 193,
   "id": "9ebed2c7-2d4d-46cc-944d-0c698d6332f4",
   "metadata": {},
   "outputs": [],
   "source": [
    "# удалим пропуски для тех, кто не решил дилемму\n",
    "df.dropna(subset=['DECISION'], inplace=True)"
   ]
  },
  {
   "cell_type": "markdown",
   "id": "9d7d4d0a-a708-47fa-b3bc-08290fe1183a",
   "metadata": {},
   "source": [
    "---\n",
    "---"
   ]
  },
  {
   "cell_type": "markdown",
   "id": "080970c1-bea6-43f2-aad4-19c90c4780cc",
   "metadata": {},
   "source": [
    "## Гипотезы о среднем и о разнице средних\n",
    "\n",
    "__Гипотеза:__ Кровожадные люди быстро берут на себя ответственность за удар мышки током. Будем считать, что кровожадные люди принимают решение менее, чем за пять секунд. Правда ли, что люди по своей природе кровожадные?\n",
    "\n",
    "$$\n",
    "\\begin{aligned}\n",
    "& H_0: \\hspace{2mm} \\mu \\le 5 \\hspace{2mm} \\text{Люди кровожадны} \\\\\n",
    "& H_1: \\hspace{2mm} \\mu \\gt 5  \\hspace{2mm} \\text{Люди не кровожадны}\n",
    "\\end{aligned}\n",
    "$$\n",
    "\n",
    "$$\n",
    "\\Large Z = \\frac{\\bar x - \\mu}{ \\sqrt{\\frac{s_x^2}{n_x}} } \\sim N(0; 1)\n",
    "$$"
   ]
  },
  {
   "cell_type": "code",
   "execution_count": 194,
   "id": "8d4d4778-44b0-42cb-b393-97611ebb2541",
   "metadata": {},
   "outputs": [
    {
     "name": "stdout",
     "output_type": "stream",
     "text": [
      "Наблюдаемое значение 13.0 больше критического 1.64       => нулевая гипотеза отвергается\n"
     ]
    }
   ],
   "source": [
    "# Асимптотический критерий\n",
    "x = df['RT'].dropna().values         # выборка\n",
    "\n",
    "alpha = 0.05                         # уровень значимости = 5%\n",
    "n = x.size                           # размер выборки\n",
    "mu = x.mean()                        # среднее значение\n",
    "std = x.std(ddof=1)/np.sqrt(n)       # стандартное отклонение\n",
    "\n",
    "z_obs = (mu - 5)/std                 # наблюдаемое значение статистики \n",
    "z_crit = sts.norm.ppf(1 - alpha)   # критическое значение статистики\n",
    "\n",
    "print(f'Наблюдаемое значение {z_obs:.3} больше критического {z_crit:.3} \\\n",
    "      => нулевая гипотеза отвергается')"
   ]
  },
  {
   "cell_type": "code",
   "execution_count": 195,
   "id": "6190965a-0c48-45ca-9322-01f0fb38bfe7",
   "metadata": {},
   "outputs": [
    {
     "name": "stdout",
     "output_type": "stream",
     "text": [
      "p-value = 0.0\n"
     ]
    },
    {
     "data": {
      "image/png": "[encoded data removed]",
      "text/plain": [
       "<Figure size 720x360 with 1 Axes>"
      ]
     },
     "metadata": {
      "needs_background": "light"
     },
     "output_type": "display_data"
    }
   ],
   "source": [
    "asy_mean_test(mu, std, mu_0 = 5, alpha = 0.05, \n",
    "              margin = 15, alternative='larger');"
   ]
  },
  {
   "cell_type": "code",
   "execution_count": 196,
   "id": "9d672b31-7bf7-44f2-a39a-769b0c9f7beb",
   "metadata": {},
   "outputs": [
    {
     "data": {
      "text/plain": [
       "10.116762704819276"
      ]
     },
     "execution_count": 196,
     "metadata": {},
     "output_type": "execute_result"
    }
   ],
   "source": [
    "mu"
   ]
  },
  {
   "cell_type": "markdown",
   "id": "f3e09d5a-0b96-4c47-b116-6a010b3990a6",
   "metadata": {},
   "source": [
    "Вычислим средствами пакета statsmodels"
   ]
  },
  {
   "cell_type": "code",
   "execution_count": 197,
   "id": "55e60dec-3fec-4ea6-ba3e-912db9749616",
   "metadata": {},
   "outputs": [
    {
     "name": "stdout",
     "output_type": "stream",
     "text": [
      "Наблюдаемое значение: 12.9749\n",
      "P-значение: 8.49e-39\n"
     ]
    }
   ],
   "source": [
    "from statsmodels.stats.weightstats import ztest\n",
    "\n",
    "z_obs, p_val = ztest(x, value=5, alternative='larger')\n",
    "\n",
    "print(f\"Наблюдаемое значение: {z_obs:.7}\") \n",
    "print(f\"P-значение: {p_val:.3}\")"
   ]
  },
  {
   "cell_type": "code",
   "execution_count": 198,
   "id": "784bfce9-68b9-4aa8-8b7a-158a0dc77522",
   "metadata": {},
   "outputs": [
    {
     "name": "stdout",
     "output_type": "stream",
     "text": [
      "Наблюдаемое значение 12.97 больше критического 1.654       => нулевая гипотеза отвергается\n"
     ]
    }
   ],
   "source": [
    "t_obs = (mu - 5)/std                     # наблюдаемое значение статистики \n",
    "t_crit = sts.t(n - 1).ppf(1 - alpha)   # критическое значение статистики\n",
    "\n",
    "print(f'Наблюдаемое значение {t_obs:.4} больше критического {t_crit:.4} \\\n",
    "      => нулевая гипотеза отвергается')"
   ]
  },
  {
   "cell_type": "markdown",
   "id": "e94e946f-5a4a-4e97-b9d3-47a185eb02e4",
   "metadata": {},
   "source": [
    "Каким тестом пользоваться? Точным или асимптотическим?"
   ]
  },
  {
   "cell_type": "code",
   "execution_count": 199,
   "id": "3663372a-ec17-4e05-bbb0-52d864a43875",
   "metadata": {},
   "outputs": [
    {
     "data": {
      "image/png": "[encoded data removed]",
      "text/plain": [
       "<Figure size 432x288 with 1 Axes>"
      ]
     },
     "metadata": {
      "needs_background": "light"
     },
     "output_type": "display_data"
    }
   ],
   "source": [
    "plt.hist(x, density=True, bins=20)\n",
    "\n",
    "xs = np.linspace(0,21,100)\n",
    "pdf = sts.norm(x.mean(), x.std(ddof=1)).pdf(xs)\n",
    "plt.plot(xs, pdf, lw=2);"
   ]
  },
  {
   "cell_type": "markdown",
   "id": "8f74e32c-4500-4a29-8cd7-8207ab7e509d",
   "metadata": {},
   "source": [
    "Распределение не похоже на нормальное. Bоспользуемся тестом Колмогорова-Смирнова и проверим гипотезу о нормальности распределения колонки RT."
   ]
  },
  {
   "cell_type": "code",
   "execution_count": 200,
   "id": "bd20faac-a945-40b1-a92e-c0a2ac24cadc",
   "metadata": {},
   "outputs": [
    {
     "data": {
      "text/plain": [
       "KstestResult(statistic=0.10581791163988818, pvalue=0.045074232278964566)"
      ]
     },
     "execution_count": 200,
     "metadata": {},
     "output_type": "execute_result"
    }
   ],
   "source": [
    "sts.kstest(x, 'norm', args=(df['RT'].mean(), df['RT'].std(ddof=1)))"
   ]
  },
  {
   "cell_type": "markdown",
   "id": "2c3f8351-4017-4b21-9c09-4844af3c9655",
   "metadata": {},
   "source": [
    "Видим, что pvalue очень низкое, это говорит о том, что гипотеза о нормальности выборки отвергается.\n",
    "\n",
    "> __Вывод:__ гипотеза о том, что люди кровожадные отвергается. Гипотезу тестируем с помощью асимптотического критерия, так как наблюдений много, а распределение отличается от нормального."
   ]
  },
  {
   "cell_type": "markdown",
   "id": "0d7e110c-4473-4bff-8599-83ac1bc0920a",
   "metadata": {},
   "source": [
    "---"
   ]
  },
  {
   "cell_type": "markdown",
   "id": "bc7a8710-c109-43d3-8e32-1465ce9f6ca3",
   "metadata": {},
   "source": [
    "__Гипотеза:__ Правда ли, что женщины намного кровожаднее мужчин и жмут на кнопку гораздо быстрее?"
   ]
  },
  {
   "cell_type": "code",
   "execution_count": 201,
   "id": "0b2084a8-94f6-4f45-96f7-5bb12a66bbd7",
   "metadata": {},
   "outputs": [],
   "source": [
    "men = df[(df['GENDER'] == 1)]['RT'].dropna().values\n",
    "women = df[(df['GENDER'] == 0)]['RT'].dropna().values"
   ]
  },
  {
   "cell_type": "code",
   "execution_count": 202,
   "id": "8e8e0c67-1231-4530-85a6-33eb625c9c4a",
   "metadata": {},
   "outputs": [
    {
     "data": {
      "text/plain": [
       "(9.373347263157894, 10.505521238532111)"
      ]
     },
     "execution_count": 202,
     "metadata": {},
     "output_type": "execute_result"
    }
   ],
   "source": [
    "men.mean(), women.mean()"
   ]
  },
  {
   "cell_type": "markdown",
   "id": "b6c8d9e0-717d-42c9-8e70-e1ced6da9920",
   "metadata": {},
   "source": [
    "Выше мы увидели, что в данных нет нормальности. Поэтому используем асимптотический тест:  \n",
    "\n",
    "$$\n",
    "\\Large Z = \\frac{\\bar x - \\bar y}{ \\sqrt{\\frac{s_x^2}{n_x} + \\frac{s_y^2}{n_y}} } \\sim N(0; 1)\n",
    "$$"
   ]
  },
  {
   "cell_type": "code",
   "execution_count": 204,
   "id": "c64b37ed-bd97-408b-a6cb-5ef04288a117",
   "metadata": {},
   "outputs": [
    {
     "name": "stdout",
     "output_type": "stream",
     "text": [
      "Наблюдаемое значение 1.376 меньше критического 1.64       => нулевая гипотеза не отвергается\n"
     ]
    }
   ],
   "source": [
    "alpha = 0.05                                                    # уровень значимости = 5%\n",
    "nx, ny = women.size, men.size                                   # размер выборок\n",
    "\n",
    "diff = women.mean() - men.mean()                                # разность средних\n",
    "diff_std = np.sqrt(women.var(ddof=1)/nx + men.var(ddof=1)/ny)   # стандартное отклонение\n",
    "\n",
    "z_obs = diff/diff_std                                           # наблюдаемое значение\n",
    "z_crit = sts.norm.ppf(1 - alpha)                              # критическое значение\n",
    "\n",
    "print(f'Наблюдаемое значение {z_obs:.5} меньше критического {z_crit:.3} \\\n",
    "      => нулевая гипотеза не отвергается')"
   ]
  },
  {
   "cell_type": "code",
   "execution_count": 205,
   "id": "7d4223d0-3804-47f8-bb0a-06b11cdf08ac",
   "metadata": {},
   "outputs": [
    {
     "name": "stdout",
     "output_type": "stream",
     "text": [
      "p-value = 0.0844\n"
     ]
    },
    {
     "data": {
      "image/png": "[encoded data removed]",
      "text/plain": [
       "<Figure size 720x360 with 1 Axes>"
      ]
     },
     "metadata": {
      "needs_background": "light"
     },
     "output_type": "display_data"
    }
   ],
   "source": [
    "asy_mean_test(diff, diff_std, mu_0=0, alpha=0.05, alternative='larger');"
   ]
  },
  {
   "cell_type": "markdown",
   "id": "f38e8302-4a42-44e3-873f-e9bb4c271348",
   "metadata": {},
   "source": [
    "---"
   ]
  },
  {
   "cell_type": "markdown",
   "id": "7c5a967a-4562-41a8-955a-08387427ac94",
   "metadata": {},
   "source": [
    "___Eсли бы с нормальностью выборки всё было хорошо___  \n",
    "_Тест Стьюдента (неизвестные равные дисперсии)_  \n",
    "\n",
    "$$\n",
    "\\Large t = \\frac{\\bar x - \\bar y}{ \\sqrt{\\frac{s^2}{n_x} + \\frac{s^2}{n_y}} } \\sim t_{crit}(n+m-2)\n",
    "$$\n",
    "\n",
    "$$\n",
    "\\Large s^2 = \\frac{(n-1)s_x^2 + (m-1)s_y^2}{(n-1)+(m-1)}\n",
    "$$"
   ]
  },
  {
   "cell_type": "code",
   "execution_count": 206,
   "id": "df0e39dd-efaa-40cb-96dd-2ca6ba6c2a03",
   "metadata": {},
   "outputs": [
    {
     "name": "stdout",
     "output_type": "stream",
     "text": [
      "Наблюдаемое значение 1.37 меньше критического 1.65       => нулевая гипотеза не отвергается\n"
     ]
    }
   ],
   "source": [
    "alpha = 0.05                                                    # уровень значимости = 5%\n",
    "nx, ny = women.size, men.size                                   # размер выборок\n",
    "diff = women.mean() - men.mean()                                # разность средних\n",
    "\n",
    "diff_var = ((nx - 1)*women.var(ddof=1) + (ny - 1)*men.var(ddof=1))/(nx + ny - 2)\n",
    "diff_std = np.sqrt(diff_var/nx + diff_var/ny)                   # стандартное отклонение\n",
    "\n",
    "t_obs = diff/diff_std                                           # наблюдаемое значение\n",
    "t_crit = sts.t(df = nx + ny - 2).ppf(1 - alpha)               # критическое значение\n",
    "\n",
    "print(f'Наблюдаемое значение {t_obs:.3} меньше критического {t_crit:.3} \\\n",
    "      => нулевая гипотеза не отвергается')"
   ]
  },
  {
   "cell_type": "markdown",
   "id": "73880e5f-9789-454a-9d51-eaa737370413",
   "metadata": {},
   "source": [
    "_То же самое средствами statsmodels:_"
   ]
  },
  {
   "cell_type": "code",
   "execution_count": 207,
   "id": "e6e482de-0020-40cf-9480-28a9bb98241a",
   "metadata": {},
   "outputs": [
    {
     "name": "stdout",
     "output_type": "stream",
     "text": [
      "Наблюдаемое значение: 1.37\n",
      "P-значение: 0.0868\n"
     ]
    }
   ],
   "source": [
    "from statsmodels.stats.weightstats import ttest_ind\n",
    "\n",
    "t_obs, p_val, _ = ttest_ind(women, men, value=0, alternative='larger')\n",
    "\n",
    "print(f\"Наблюдаемое значение: {t_obs:.3}\") \n",
    "print(f\"P-значение: {p_val:.3}\")"
   ]
  },
  {
   "cell_type": "markdown",
   "id": "26f7d5d7-acbf-4b01-bdc4-fd90d4d5fb26",
   "metadata": {},
   "source": [
    "_Тест Уэлча (неизвестные разные дисперсии)_\n",
    "\n",
    "$$\n",
    "\\Large t = \\frac{\\bar x - \\bar y}{ \\sqrt{\\frac{s^2}{n_x} + \\frac{s^2}{n_y}} } \\sim t_{crit}(\\nu)\n",
    "$$\n",
    "\n",
    "$$\n",
    "\\Large \\nu =  \\left( \\frac{s_x^2}{n_x} + \\frac{s_y^2}{n_y} \\right)^2 \\big/ \\left( \\frac{s_x^4}{n_x^2(n_x-1)} + \\frac{s_y^4}{n_y^2(n_y-1)} \\right)\n",
    "$$\n"
   ]
  },
  {
   "cell_type": "code",
   "execution_count": 208,
   "id": "606a2a33-08f1-43b7-bb24-122d80f578d9",
   "metadata": {},
   "outputs": [
    {
     "name": "stdout",
     "output_type": "stream",
     "text": [
      "Наблюдаемое значение 1.38 меньше критического 1.66       => нулевая гипотеза не отвергается\n"
     ]
    }
   ],
   "source": [
    "alpha = 0.05                                                    # уровень значимости = 5%\n",
    "nx, ny = women.size, men.size                                   # размер выборок\n",
    "\n",
    "diff = women.mean() - men.mean()                                # разность средних\n",
    "diff_std = np.sqrt(women.var(ddof=1)/nx + men.var(ddof=1)/ny)   # стандартное отклонение\n",
    "\n",
    "t_obs = diff/diff_std                                           # наблюдаемое значение\n",
    "\n",
    "# число степеней свободы\n",
    "u = (women.var(ddof=1) / nx + men.var(ddof=1) / ny) ** 2\n",
    "d = (women.var(ddof=1)**2) / (nx**2 * (nx - 1)) + (men.var(ddof=1)**2)/ (ny**2* (ny - 1))\n",
    "nu =  u/d \n",
    "\n",
    "t_crit = sts.t(nu).ppf(1 - alpha)                             # критическое значение\n",
    "\n",
    "print(f'Наблюдаемое значение {t_obs:.3} меньше критического {t_crit:.3} \\\n",
    "      => нулевая гипотеза не отвергается')"
   ]
  },
  {
   "cell_type": "code",
   "execution_count": 209,
   "id": "bc1520b8-1831-4982-ab6b-6cb609b58355",
   "metadata": {},
   "outputs": [
    {
     "data": {
      "text/plain": [
       "(5.103972224167936, 4.996830829492463)"
      ]
     },
     "execution_count": 209,
     "metadata": {},
     "output_type": "execute_result"
    }
   ],
   "source": [
    "women.std(ddof=1), men.std(ddof=1)"
   ]
  },
  {
   "cell_type": "code",
   "execution_count": 210,
   "id": "f7b60448-3e9e-46df-bf78-e2e7f5013fbd",
   "metadata": {},
   "outputs": [
    {
     "data": {
      "text/plain": [
       "(109, 57)"
      ]
     },
     "execution_count": 210,
     "metadata": {},
     "output_type": "execute_result"
    }
   ],
   "source": [
    "nx, ny # направление знака между наблюдениями соотвествует знаку между дисперсиями"
   ]
  },
  {
   "cell_type": "markdown",
   "id": "1bc69730-8ca4-4c96-8246-694dec2716a9",
   "metadata": {},
   "source": [
    "_То же самое средствами statsmodels:_"
   ]
  },
  {
   "cell_type": "code",
   "execution_count": 211,
   "id": "70b33c4a-1707-4125-9f0d-a426bc2610e2",
   "metadata": {},
   "outputs": [
    {
     "name": "stdout",
     "output_type": "stream",
     "text": [
      "Наблюдаемое значение: 1.38\n",
      "P-значение: 0.0857\n"
     ]
    }
   ],
   "source": [
    "from statsmodels.stats.weightstats import ttest_ind\n",
    "\n",
    "# usevar опционально думает, что дисперсии одинаковые\n",
    "t_obs, p_val, _ = ttest_ind(women, men, value=0, \n",
    "                            alternative='larger', usevar='unequal')\n",
    "\n",
    "print(f\"Наблюдаемое значение: {t_obs:.3}\") \n",
    "print(f\"P-значение: {p_val:.3}\")"
   ]
  },
  {
   "cell_type": "markdown",
   "id": "13c66ef6-d505-4dbd-9941-1bea7d18eddb",
   "metadata": {},
   "source": [
    "---"
   ]
  },
  {
   "cell_type": "markdown",
   "id": "9faaece1-7a05-4b9a-9ea2-6214834a2ef3",
   "metadata": {},
   "source": [
    "---"
   ]
  },
  {
   "cell_type": "markdown",
   "id": "1731d235-31c7-4db7-98d6-2a4a0526b997",
   "metadata": {},
   "source": [
    "## Гипотеза о дисперсии и об отношении дисперсий"
   ]
  },
  {
   "cell_type": "markdown",
   "id": "51e4d563-494a-4da8-b36f-3d23a73816c1",
   "metadata": {},
   "source": [
    "Перед экспериментом каждый участник проходил психологический тест. Для каждого человека рассчитывалось довольно большое число параметров, описывающих его психотип. Например, в колонках EC находится оценка способности человека к эмпатии (Empathic concern), в колонке AE находится оценка эмпатии человека к животным."
   ]
  },
  {
   "cell_type": "code",
   "execution_count": 212,
   "id": "3de0ba8c-cbb4-428b-be51-20aae2f1d61c",
   "metadata": {},
   "outputs": [
    {
     "data": {
      "image/png": "[encoded data removed]",
      "text/plain": [
       "<Figure size 1080x288 with 2 Axes>"
      ]
     },
     "metadata": {
      "needs_background": "light"
     },
     "output_type": "display_data"
    }
   ],
   "source": [
    "df[['EC', 'AE']].hist(bins=15, figsize=(15,4));"
   ]
  },
  {
   "cell_type": "markdown",
   "id": "648af34a-9708-4c1e-9523-36ff2ec38606",
   "metadata": {},
   "source": [
    "Масштабируем данные на отрезок [0; 1] для сравнения:"
   ]
  },
  {
   "cell_type": "code",
   "execution_count": 213,
   "id": "e19f658d-be91-4c6e-ac2a-1951c24ebbee",
   "metadata": {},
   "outputs": [
    {
     "data": {
      "image/png": "[encoded data removed]",
      "text/plain": [
       "<Figure size 1080x288 with 2 Axes>"
      ]
     },
     "metadata": {
      "needs_background": "light"
     },
     "output_type": "display_data"
    }
   ],
   "source": [
    "df['EC'] = (df['EC'] - df['EC'].min())/(df['EC'].max() - df['EC'].min())\n",
    "df['AE'] = (df['AE'] - df['AE'].min())/(df['AE'].max() - df['AE'].min())\n",
    "\n",
    "df[['EC', 'AE']].hist(bins=15, figsize=(15,4));\n"
   ]
  },
  {
   "cell_type": "markdown",
   "id": "b6df8e7d-f359-4163-9deb-39d7653ddb07",
   "metadata": {},
   "source": [
    "Правда ли, что неоднородность людей в плане их эмпатии к животным намного выше неоднородности в плане обычной эмпатии?\n",
    "\n",
    "$$\n",
    "\\begin{aligned}\n",
    "& H_0: \\hspace{2mm} \\sigma^2_1 = \\sigma^2_2 \\hspace{2mm} \\text{Неоднородность одинаковая} \\\\\n",
    "& H_1: \\hspace{2mm} \\sigma^2_1 < \\sigma^2_2  \\hspace{2mm} \\text{Неоднородность для животных выше}\n",
    "\\end{aligned}\n",
    "$$"
   ]
  },
  {
   "cell_type": "markdown",
   "id": "b661597e-a7ce-4f24-8311-f6454d7ef030",
   "metadata": {},
   "source": [
    "Распределения нормальные, можем использовать F-статистику:\n",
    "\n",
    "$$\n",
    "F = \\frac{\\sigma_x^2 \\cdot s_y^2}{\\sigma_y^2 \\cdot s_x^2} \\sim F_{1-\\frac{\\alpha}{2}}(n_y-1, n_x-1) \n",
    "$$\n",
    "\n",
    "$$\n",
    "\\text{если  } \\sigma_x^2 = \\sigma_y^2, \\text{   то  } F = \\frac{s_y^2}{s_x^2}\n",
    "$$"
   ]
  },
  {
   "cell_type": "code",
   "execution_count": 214,
   "id": "73e5ffdf-634a-4eb9-bea1-5d2160bac88b",
   "metadata": {},
   "outputs": [
    {
     "data": {
      "text/plain": [
       "(0.6190814394131477, 0.5798980496933709)"
      ]
     },
     "execution_count": 214,
     "metadata": {},
     "output_type": "execute_result"
    }
   ],
   "source": [
    "ec = df['EC'].dropna().values\n",
    "ae = df['AE'].dropna().values\n",
    "\n",
    "ec.mean(), ae.mean()"
   ]
  },
  {
   "cell_type": "code",
   "execution_count": 215,
   "id": "e4da75ae-7e12-41ea-96c0-ddb78e77cd4f",
   "metadata": {},
   "outputs": [
    {
     "data": {
      "text/plain": [
       "(0.04269876672541116, 0.032214701849814856)"
      ]
     },
     "execution_count": 215,
     "metadata": {},
     "output_type": "execute_result"
    }
   ],
   "source": [
    "ec.var(ddof = 1), ae.var(ddof = 1)"
   ]
  },
  {
   "cell_type": "code",
   "execution_count": 216,
   "id": "f5451527-7bca-4ef6-b47c-ec502f8d7938",
   "metadata": {},
   "outputs": [
    {
     "name": "stdout",
     "output_type": "stream",
     "text": [
      "Наблюдаемое значение 1.3254 больше критического 1.2695       => нулевая гипотеза отвергается\n"
     ]
    }
   ],
   "source": [
    "alpha = 0.05                             # уровень значимости = 5%\n",
    "nx, ny = ec.size, ae.size                # размер выборок\n",
    "\n",
    "F_obs = ec.var(ddof = 1)/ae.var(ddof = 1)  # наблюдаемое значение\n",
    "\n",
    "f_rv = sts.f(nx - 1, ny - 1) \n",
    "F_crit = f_rv.ppf(1 - alpha)           # критическое значение\n",
    "\n",
    "print(f'Наблюдаемое значение {F_obs:.5} больше критического {F_crit:.5} \\\n",
    "      => нулевая гипотеза отвергается')"
   ]
  },
  {
   "cell_type": "code",
   "execution_count": 218,
   "id": "252f303f-a219-457f-b994-a7dc80d1d50f",
   "metadata": {},
   "outputs": [
    {
     "data": {
      "image/png": "[encoded data removed]",
      "text/plain": [
       "<Figure size 720x360 with 1 Axes>"
      ]
     },
     "metadata": {
      "needs_background": "light"
     },
     "output_type": "display_data"
    }
   ],
   "source": [
    "plt.figure(figsize=(10, 5))\n",
    "\n",
    "x_f = np.linspace(0.5, 1.75, 100)\n",
    "pdf = f_rv.pdf(x_f)\n",
    "plt.plot(x_f, pdf)\n",
    "\n",
    "#left = f_rv.ppf(alpha/2)\n",
    "#xq_l = np.linspace(0.5, left)\n",
    "#yq_l = f_rv.pdf(xq_l)\n",
    "#right = f_rv.ppf(1 - alpha/2)\n",
    "right = F_crit\n",
    "xq_u = np.linspace(right, 1.75)\n",
    "yq_u = f_rv.pdf(xq_u)\n",
    "\n",
    "\n",
    "#plt.fill_between(xq_l, 0, yq_l, color='blue', alpha=0.3)\n",
    "plt.fill_between(xq_u, 0, yq_u, color='blue', alpha=0.3)\n",
    "\n",
    "plt.axvline(F_obs, color='red', linestyle=\"--\", lw=2)\n",
    "plt.axvline(right, color='blue', linestyle=\"--\", lw=2);\n",
    "\n",
    "plt.xlabel('$x$', fontsize=20)\n",
    "plt.ylabel(r'Probability', fontsize=20);"
   ]
  },
  {
   "cell_type": "markdown",
   "id": "a1cbe4c7-2dc2-4c4d-91ab-a2073b5732d5",
   "metadata": {
    "tags": []
   },
   "source": [
    "## Зависимые выборки\n",
    "\n",
    "Сравниваются одни и те же объекты до и после какого-то воздействия:\n",
    "\n",
    "$$\n",
    "X_1, \\ldots , X_n\n",
    "$$\n",
    "\n",
    "$$\n",
    "Y_1, \\ldots, Y_n\n",
    "$$\n",
    "\n",
    "$$\n",
    "d_i = X_i - Y_i\n",
    "$$\n",
    "\n",
    "$$\n",
    "\\bar d = \\bar X - \\bar Y = \\overline{X - Y}\n",
    "$$"
   ]
  },
  {
   "cell_type": "markdown",
   "id": "447c0c51-6530-4640-8c4f-c77fceba0a98",
   "metadata": {},
   "source": [
    "Имеется датасет cr.csv с результатами контрольной работы, проведённой на факультете. Проверим, изменилась ли успеваемость студентов."
   ]
  },
  {
   "cell_type": "code",
   "execution_count": 219,
   "id": "a3202adb-0431-417b-8e8d-8491c1e847ff",
   "metadata": {},
   "outputs": [
    {
     "data": {
      "text/html": [
       "<div>\n",
       "<style scoped>\n",
       "    .dataframe tbody tr th:only-of-type {\n",
       "        vertical-align: middle;\n",
       "    }\n",
       "\n",
       "    .dataframe tbody tr th {\n",
       "        vertical-align: top;\n",
       "    }\n",
       "\n",
       "    .dataframe thead th {\n",
       "        text-align: right;\n",
       "    }\n",
       "</style>\n",
       "<table border=\"1\" class=\"dataframe\">\n",
       "  <thead>\n",
       "    <tr style=\"text-align: right;\">\n",
       "      <th></th>\n",
       "      <th>contest_login</th>\n",
       "      <th>fraud</th>\n",
       "      <th>k1a</th>\n",
       "      <th>k1b</th>\n",
       "      <th>k1c</th>\n",
       "      <th>k1d</th>\n",
       "      <th>k1e</th>\n",
       "      <th>k1f</th>\n",
       "      <th>k1</th>\n",
       "      <th>k2a</th>\n",
       "      <th>k2b</th>\n",
       "      <th>k2c</th>\n",
       "      <th>k2d</th>\n",
       "      <th>k2e</th>\n",
       "      <th>k2f</th>\n",
       "      <th>k2</th>\n",
       "      <th>k3a</th>\n",
       "      <th>k3b</th>\n",
       "      <th>k3c</th>\n",
       "      <th>k3</th>\n",
       "    </tr>\n",
       "  </thead>\n",
       "  <tbody>\n",
       "    <tr>\n",
       "      <th>384</th>\n",
       "      <td>eds_python_2020_384</td>\n",
       "      <td>1.0</td>\n",
       "      <td>0.0</td>\n",
       "      <td>10.0</td>\n",
       "      <td>NaN</td>\n",
       "      <td>NaN</td>\n",
       "      <td>NaN</td>\n",
       "      <td>NaN</td>\n",
       "      <td>1.0</td>\n",
       "      <td>NaN</td>\n",
       "      <td>0.0</td>\n",
       "      <td>13.0</td>\n",
       "      <td>20.0</td>\n",
       "      <td>0.0</td>\n",
       "      <td>NaN</td>\n",
       "      <td>3.3</td>\n",
       "      <td>35.0</td>\n",
       "      <td>55.0</td>\n",
       "      <td>4.0</td>\n",
       "      <td>9.4</td>\n",
       "    </tr>\n",
       "    <tr>\n",
       "      <th>385</th>\n",
       "      <td>eds_python_2020_385</td>\n",
       "      <td>3.0</td>\n",
       "      <td>NaN</td>\n",
       "      <td>NaN</td>\n",
       "      <td>NaN</td>\n",
       "      <td>NaN</td>\n",
       "      <td>4.0</td>\n",
       "      <td>NaN</td>\n",
       "      <td>0.4</td>\n",
       "      <td>NaN</td>\n",
       "      <td>NaN</td>\n",
       "      <td>NaN</td>\n",
       "      <td>NaN</td>\n",
       "      <td>20.0</td>\n",
       "      <td>NaN</td>\n",
       "      <td>2.0</td>\n",
       "      <td>35.0</td>\n",
       "      <td>0.0</td>\n",
       "      <td>5.0</td>\n",
       "      <td>4.0</td>\n",
       "    </tr>\n",
       "    <tr>\n",
       "      <th>386</th>\n",
       "      <td>eds_python_2020_386</td>\n",
       "      <td>1.0</td>\n",
       "      <td>10.0</td>\n",
       "      <td>10.0</td>\n",
       "      <td>20.0</td>\n",
       "      <td>NaN</td>\n",
       "      <td>10.0</td>\n",
       "      <td>12.0</td>\n",
       "      <td>6.2</td>\n",
       "      <td>NaN</td>\n",
       "      <td>NaN</td>\n",
       "      <td>7.0</td>\n",
       "      <td>15.0</td>\n",
       "      <td>10.0</td>\n",
       "      <td>15.0</td>\n",
       "      <td>4.7</td>\n",
       "      <td>25.0</td>\n",
       "      <td>40.0</td>\n",
       "      <td>15.0</td>\n",
       "      <td>8.0</td>\n",
       "    </tr>\n",
       "    <tr>\n",
       "      <th>387</th>\n",
       "      <td>eds_python_2020_387</td>\n",
       "      <td>NaN</td>\n",
       "      <td>NaN</td>\n",
       "      <td>NaN</td>\n",
       "      <td>NaN</td>\n",
       "      <td>NaN</td>\n",
       "      <td>NaN</td>\n",
       "      <td>NaN</td>\n",
       "      <td>0.0</td>\n",
       "      <td>NaN</td>\n",
       "      <td>NaN</td>\n",
       "      <td>NaN</td>\n",
       "      <td>NaN</td>\n",
       "      <td>NaN</td>\n",
       "      <td>NaN</td>\n",
       "      <td>0.0</td>\n",
       "      <td>NaN</td>\n",
       "      <td>NaN</td>\n",
       "      <td>NaN</td>\n",
       "      <td>NaN</td>\n",
       "    </tr>\n",
       "    <tr>\n",
       "      <th>388</th>\n",
       "      <td>eds_python_2020_388</td>\n",
       "      <td>0.0</td>\n",
       "      <td>10.0</td>\n",
       "      <td>10.0</td>\n",
       "      <td>7.0</td>\n",
       "      <td>30.0</td>\n",
       "      <td>NaN</td>\n",
       "      <td>12.0</td>\n",
       "      <td>6.9</td>\n",
       "      <td>NaN</td>\n",
       "      <td>NaN</td>\n",
       "      <td>NaN</td>\n",
       "      <td>NaN</td>\n",
       "      <td>NaN</td>\n",
       "      <td>NaN</td>\n",
       "      <td>0.0</td>\n",
       "      <td>24.0</td>\n",
       "      <td>0.0</td>\n",
       "      <td>5.0</td>\n",
       "      <td>2.9</td>\n",
       "    </tr>\n",
       "  </tbody>\n",
       "</table>\n",
       "</div>"
      ],
      "text/plain": [
       "           contest_login  fraud   k1a   k1b   k1c   k1d   k1e   k1f   k1  k2a  \\\n",
       "384  eds_python_2020_384    1.0   0.0  10.0   NaN   NaN   NaN   NaN  1.0  NaN   \n",
       "385  eds_python_2020_385    3.0   NaN   NaN   NaN   NaN   4.0   NaN  0.4  NaN   \n",
       "386  eds_python_2020_386    1.0  10.0  10.0  20.0   NaN  10.0  12.0  6.2  NaN   \n",
       "387  eds_python_2020_387    NaN   NaN   NaN   NaN   NaN   NaN   NaN  0.0  NaN   \n",
       "388  eds_python_2020_388    0.0  10.0  10.0   7.0  30.0   NaN  12.0  6.9  NaN   \n",
       "\n",
       "     k2b   k2c   k2d   k2e   k2f   k2   k3a   k3b   k3c   k3  \n",
       "384  0.0  13.0  20.0   0.0   NaN  3.3  35.0  55.0   4.0  9.4  \n",
       "385  NaN   NaN   NaN  20.0   NaN  2.0  35.0   0.0   5.0  4.0  \n",
       "386  NaN   7.0  15.0  10.0  15.0  4.7  25.0  40.0  15.0  8.0  \n",
       "387  NaN   NaN   NaN   NaN   NaN  0.0   NaN   NaN   NaN  NaN  \n",
       "388  NaN   NaN   NaN   NaN   NaN  0.0  24.0   0.0   5.0  2.9  "
      ]
     },
     "execution_count": 219,
     "metadata": {},
     "output_type": "execute_result"
    }
   ],
   "source": [
    "df_control = pd.read_csv('cr.csv', sep=';')\n",
    "df_control.tail()"
   ]
  },
  {
   "cell_type": "markdown",
   "id": "a546c9a0-31c0-49b9-a0d7-89069741ff7a",
   "metadata": {},
   "source": [
    "__Описание колонок:__\n",
    "\n",
    "__contest_login__ - уникальный идентификатор студента  \n",
    "__fraud__ - в списывании скольки задач был уличён студент  \n",
    "__k1__ - результат за первую контрольную, k1a - k1f в разбивке по задачам  \n",
    "__k2__ - результат за вторую контрольную, k2a - k2f в разбивке по задачам  \n",
    "__k3__ - результат за третью контрольную, k3a - k3с в разбивке по задачам  "
   ]
  },
  {
   "cell_type": "markdown",
   "id": "1b7e32c6-4c5d-4d3b-8249-f416a6db4ea7",
   "metadata": {},
   "source": [
    "Получим выборку разниц оценок за вторую и первую контрольные, поставив 0 баллов, если работа не была написана:"
   ]
  },
  {
   "cell_type": "code",
   "execution_count": 220,
   "id": "8ae8d213-9ca5-4068-b87e-4719df32a49a",
   "metadata": {},
   "outputs": [
    {
     "data": {
      "text/plain": [
       "(10.00703773884928, 10.601474438820155)"
      ]
     },
     "execution_count": 220,
     "metadata": {},
     "output_type": "execute_result"
    }
   ],
   "source": [
    "k_1 = df_control.k1.fillna(0)\n",
    "k_2 = df_control.k2.fillna(0)\n",
    "k_1.var(ddof=1), k_2.var(ddof=1)"
   ]
  },
  {
   "cell_type": "markdown",
   "id": "63e19162-a66b-44d0-8c92-58030641b736",
   "metadata": {},
   "source": [
    "$$\n",
    "\\begin{aligned}\n",
    "& H_0: \\hspace{2mm} \\bar d = \\bar k_1 - \\bar k_2 = 0 \\hspace{2mm} \\text{Успеваемость не изменилась} \\\\\n",
    "& H_1: \\hspace{2mm} \\bar d = \\bar k_1 - \\bar k_2 > 0  \\hspace{2mm} \\text{Успеваемость упала}\n",
    "\\end{aligned}\n",
    "$$"
   ]
  },
  {
   "cell_type": "code",
   "execution_count": 221,
   "id": "ac2b6d69-07d6-4a30-a780-991c4085cfed",
   "metadata": {},
   "outputs": [
    {
     "data": {
      "image/png": "[encoded data removed]",
      "text/plain": [
       "<Figure size 432x288 with 1 Axes>"
      ]
     },
     "metadata": {
      "needs_background": "light"
     },
     "output_type": "display_data"
    }
   ],
   "source": [
    "d = k_1 - k_2\n",
    "d_mean = d.mean()\n",
    "d_std = d.std(ddof=1)\n",
    "\n",
    "plt.hist(d, bins=20, density=True)\n",
    "\n",
    "xs = np.linspace(-12, 12, 300)\n",
    "ys = sts.norm(loc=d_mean, scale=d_std).pdf(xs)\n",
    "plt.plot(xs, ys, color=\"black\");"
   ]
  },
  {
   "cell_type": "markdown",
   "id": "77899e1a-c6cd-445a-899c-e2502ae5b92c",
   "metadata": {},
   "source": [
    "Распределение разности оценок похоже на нормальное. Можем использовать тест Стьюдента."
   ]
  },
  {
   "cell_type": "markdown",
   "id": "348e6269-0163-4e70-b906-cbb889be01f1",
   "metadata": {},
   "source": [
    "$$\n",
    "t = \\frac{\\bar x - \\bar y}{ \\sqrt{\\frac{s^2}{n_x} + \\frac{s^2}{n_y}} } \\sim t_{crit}(n+m-2)\n",
    "$$\n",
    "\n",
    "$$\n",
    "s^2 = \\frac{(n-1)s_x^2 + (m-1)s_y^2}{(n-1)+(m-1)}\n",
    "$$"
   ]
  },
  {
   "cell_type": "code",
   "execution_count": 222,
   "id": "e3b0a6ba-8fc8-4441-b7d5-1d05abf74fb8",
   "metadata": {
    "tags": []
   },
   "outputs": [
    {
     "name": "stdout",
     "output_type": "stream",
     "text": [
      "Наблюдаемое значение 4.7 больше критического 1.65       => нулевая гипотеза отвергается\n"
     ]
    }
   ],
   "source": [
    "alpha = 0.05                                                    # уровень значимости = 5%\n",
    "n_1, n_2 = k_1.size, k_2.size                                   # размер выборок\n",
    "diff = k_1.mean() - k_2.mean()                                # разность средних\n",
    "\n",
    "diff_var = ((n_1 - 1)*k_1.var(ddof=1) + (n_2 - 1)*k_2.var(ddof=1))/(n_1 + n_2 - 2)\n",
    "diff_std = np.sqrt(diff_var/n_1 + diff_var/n_2)                   # стандартное отклонение\n",
    "\n",
    "t_obs = diff/diff_std                                           # наблюдаемое значение\n",
    "t_crit = sts.t(df = n_1 + n_2 - 2).ppf(1 - alpha)               # критическое значение\n",
    "\n",
    "print(f'Наблюдаемое значение {t_obs:.3} больше критического {t_crit:.3} \\\n",
    "      => нулевая гипотеза отвергается')"
   ]
  },
  {
   "cell_type": "code",
   "execution_count": 223,
   "id": "4a983aa8-1951-4b61-abd1-e40b9a31978a",
   "metadata": {},
   "outputs": [
    {
     "name": "stdout",
     "output_type": "stream",
     "text": [
      "p-value = 1.3e-06\n"
     ]
    },
    {
     "data": {
      "image/png": "[encoded data removed]",
      "text/plain": [
       "<Figure size 720x360 with 1 Axes>"
      ]
     },
     "metadata": {
      "needs_background": "light"
     },
     "output_type": "display_data"
    }
   ],
   "source": [
    "asy_mean_test(diff, diff_std, mu_0 = 0, alpha = 0.05, \n",
    "              margin = 5, alternative='larger');"
   ]
  },
  {
   "cell_type": "code",
   "execution_count": 224,
   "id": "7ad9b9da-e2ec-4019-831d-97f4a4707670",
   "metadata": {},
   "outputs": [
    {
     "data": {
      "text/plain": [
       "Ttest_relResult(statistic=5.678488097412358, pvalue=1.3336636632234913e-08)"
      ]
     },
     "execution_count": 224,
     "metadata": {},
     "output_type": "execute_result"
    }
   ],
   "source": [
    "# тест для зависимых выборок \n",
    "x = df_control.k1.fillna(0)\n",
    "y = df_control.k2.fillna(0)\n",
    "\n",
    "sts.ttest_rel(x, y, alternative='greater')"
   ]
  },
  {
   "cell_type": "code",
   "execution_count": 225,
   "id": "02c6fb1e-9e58-49bc-8750-42bc6121d45a",
   "metadata": {},
   "outputs": [
    {
     "data": {
      "text/plain": [
       "Ttest_1sampResult(statistic=5.678488097412358, pvalue=1.3336636632234913e-08)"
      ]
     },
     "execution_count": 225,
     "metadata": {},
     "output_type": "execute_result"
    }
   ],
   "source": [
    "d = df_control.k1.fillna(0) - df_control.k2.fillna(0)\n",
    "sts.ttest_1samp(d, 0, alternative='greater')"
   ]
  },
  {
   "cell_type": "markdown",
   "id": "750a2bcb-b5aa-4ad5-9305-0b207820d11d",
   "metadata": {},
   "source": [
    "---\n",
    "---"
   ]
  },
  {
   "cell_type": "markdown",
   "id": "b5c4243a-f0cc-4c6f-b248-64d2b6e63df1",
   "metadata": {},
   "source": [
    "## Случай с долями"
   ]
  },
  {
   "cell_type": "markdown",
   "id": "e70f4303-13d2-453d-8abd-723ebd5ebc07",
   "metadata": {},
   "source": [
    "Попытаемся ответить на тот же вопрос, что и исследователи. В какой из двух ситуаций респонденты чаще принимают решение нажать кнопку: в реальной или на бумаге?"
   ]
  },
  {
   "cell_type": "code",
   "execution_count": 226,
   "id": "0cc7fe5a-e10f-4c97-a62d-1ba64415e466",
   "metadata": {},
   "outputs": [
    {
     "data": {
      "text/plain": [
       "array([1., 1., 1., 1., 1., 1., 1., 1., 0., 1., 1., 1., 1., 1., 1., 1., 1.,\n",
       "       1., 1., 1., 1., 1., 1., 1., 1., 1., 1., 0., 1., 1., 0., 1., 1., 1.,\n",
       "       1., 1., 1., 1., 1., 0., 1., 1., 1., 1., 1., 1., 1., 1., 1., 1., 1.,\n",
       "       1., 1., 1., 1., 0., 1., 1., 1., 1., 1., 0., 1., 1., 1., 1., 1., 1.,\n",
       "       1., 1., 0., 1., 1., 1., 0., 1., 1., 0., 1., 1., 1., 1., 1., 0., 1.,\n",
       "       0., 1., 1., 1., 0., 1., 0., 1., 0., 0., 1., 0., 0., 0., 1., 1., 1.,\n",
       "       1., 1., 1., 1., 1., 1., 1., 1., 1., 1., 1., 0., 1., 1., 1., 1., 1.,\n",
       "       1., 1., 1., 1., 1., 1., 1., 1., 1., 0., 1., 1., 1., 1., 0., 1., 1.,\n",
       "       1., 1., 0., 1., 1., 1., 1., 1., 1., 1., 1., 0., 1., 1., 0., 1., 1.,\n",
       "       1., 1., 1., 1., 1., 1., 1., 1., 1., 1., 1., 1., 1., 1., 1., 1., 1.,\n",
       "       1., 1., 1., 1., 1., 0., 1., 1., 0., 1., 1., 1., 1., 1., 1., 1., 1.,\n",
       "       1., 1., 1., 1., 1.])"
      ]
     },
     "execution_count": 226,
     "metadata": {},
     "output_type": "execute_result"
    }
   ],
   "source": [
    "paper = df[df['STUDY'] == 1].DECISION.values\n",
    "real = df[df['STUDY'] == 2].DECISION.values\n",
    "\n",
    "paper"
   ]
  },
  {
   "cell_type": "code",
   "execution_count": 227,
   "id": "20bf756b-ae10-41fa-92d0-80148d73f700",
   "metadata": {},
   "outputs": [
    {
     "data": {
      "text/plain": [
       "(0.8645833333333334, 0.7469879518072289)"
      ]
     },
     "execution_count": 227,
     "metadata": {},
     "output_type": "execute_result"
    }
   ],
   "source": [
    "paper.mean(), real.mean()"
   ]
  },
  {
   "cell_type": "markdown",
   "id": "41bc497e-c840-4e25-b9fb-3e3f469de928",
   "metadata": {},
   "source": [
    "Проверка гипотезы о равенстве долей. Выборки независимые.\n",
    "\n",
    "$$\n",
    "\\begin{aligned}\n",
    "& H_0: \\hspace{2mm} p_1 = p_2 \\hspace{2mm} \\text{На бумаге и в реальности жмут на кнопку одинаково часто} \\\\\n",
    "& H_1: \\hspace{2mm} p_1 \\ne p_2  \\hspace{2mm} \\text{Есть различия}\n",
    "\\end{aligned}\n",
    "$$\n",
    "\n",
    ">Предпосылки: нет выбросов, много наблюдений. Наблюдения независимы. Тогда сможем использовать ЦПТ."
   ]
  },
  {
   "cell_type": "code",
   "execution_count": 228,
   "id": "bc4161a2-ced2-46d7-907c-ab685ca431a2",
   "metadata": {},
   "outputs": [
    {
     "name": "stdout",
     "output_type": "stream",
     "text": [
      "2.38 не попадает в (-1.96 , 1.96) => Нулевая гипотеза отвергается\n"
     ]
    }
   ],
   "source": [
    "alpha = 0.05                                       # уровень значимости = 5%\n",
    "n1,n2 = paper.size, real.size                      # размеры выборок\n",
    "m1,m2 = paper.sum(), real.sum()                    # число успехов\n",
    "\n",
    "p1, p2 = paper.mean(), real.mean()                 # точеные оценки долей \n",
    "diff = p1 - p2                                     # разность долей\n",
    "\n",
    "P = (m1 + m2)/(n1 + n2)          \n",
    "diff_std = np.sqrt(P*(1 - P)*(1/n1 + 1/n2))        # стандартное отклонение разности\n",
    "                                    \n",
    "z_obs = diff/diff_std                              # наблюдаемое значение статистики \n",
    "z_crit = sts.norm.ppf(1 - alpha/2)               # критическое значение статистики\n",
    "\n",
    "print(f'{z_obs:.3} не попадает в ({-z_crit:.3} , {z_crit:.3}) => Нулевая гипотеза отвергается')"
   ]
  },
  {
   "cell_type": "code",
   "execution_count": 229,
   "id": "8c91aa3c-3563-4e00-918a-d0086440acbd",
   "metadata": {},
   "outputs": [
    {
     "name": "stdout",
     "output_type": "stream",
     "text": [
      "p-value = 0.0087\n"
     ]
    },
    {
     "data": {
      "image/png": "[encoded data removed]",
      "text/plain": [
       "<Figure size 720x360 with 1 Axes>"
      ]
     },
     "metadata": {
      "needs_background": "light"
     },
     "output_type": "display_data"
    }
   ],
   "source": [
    "asy_mean_test(diff, diff_std, mu_0=0, alpha=0.05, alternative='larger');"
   ]
  },
  {
   "cell_type": "markdown",
   "id": "b0d984c4-76fb-4fd0-8c30-9956e54230cb",
   "metadata": {},
   "source": [
    "То же самое средствами statsmodels."
   ]
  },
  {
   "cell_type": "code",
   "execution_count": 230,
   "id": "c5abe169-5b9e-458a-adc2-0c2beb5209a2",
   "metadata": {},
   "outputs": [
    {
     "name": "stdout",
     "output_type": "stream",
     "text": [
      "Наблюдаемое значение: 2.38\n",
      "P-значение: 0.0087\n"
     ]
    }
   ],
   "source": [
    "from statsmodels.stats.proportion import proportions_ztest\n",
    "\n",
    "alpha = 0.05                                       # уровень значимости = 5%\n",
    "n_obs = paper.size, real.size                      # размеры выборок\n",
    "m_obs = paper.sum(), real.sum()                    # число успехов\n",
    "\n",
    "z_obs, p_val =  proportions_ztest(m_obs, n_obs, value=0, \n",
    "                                  alternative='larger')\n",
    "\n",
    "print(f\"Наблюдаемое значение: {z_obs:.3}\") \n",
    "print(f\"P-значение: {p_val:.3}\")"
   ]
  },
  {
   "cell_type": "markdown",
   "id": "69339e4e-2fa3-4e3e-9f67-49d565d76034",
   "metadata": {},
   "source": [
    "## Ошибки 1 и 2 рода\n",
    "\n",
    "__Уровень значимости (ошибка первого рода)__ - вероятность отвергнуть гипотезу $H_0$, когда она верна. Попробуем с помощью симуляций вычислить её для проверки гипотезы о среднем.\n",
    "\n",
    "Когда мы проверяем гипотезу, мы фиксируем уровень значимости. Давайте убедимся, что он действительно оказывается таким, каким мы его зафиксировали.\n",
    "\n",
    "__Ошибка второго рода__ - вероятность не отвергнуть гипотезу $H_0$, когда она неверна.\n",
    "\n",
    "Ошибку второго рода мы минимизируем по остаточному принципу."
   ]
  },
  {
   "cell_type": "code",
   "execution_count": 231,
   "id": "9bd2e5b0-0723-4969-9b54-b6678d677472",
   "metadata": {},
   "outputs": [
    {
     "data": {
      "image/png": "[encoded data removed]",
      "text/plain": [
       "<Figure size 864x360 with 1 Axes>"
      ]
     },
     "metadata": {
      "needs_background": "light"
     },
     "output_type": "display_data"
    }
   ],
   "source": [
    "plt.figure(figsize=(12, 5))\n",
    "\n",
    "x = np.linspace(-3,6,100)\n",
    "\n",
    "H_0 = sts.norm(0, 1)\n",
    "pdf_0 = H_0.pdf(x)\n",
    "plt.plot(x, pdf_0, color = 'blue')\n",
    "\n",
    "H_1 = sts.norm(3, 1)\n",
    "pdf_1 = H_1.pdf(x)\n",
    "plt.plot(x, pdf_1, color = 'red')\n",
    "\n",
    "alpha = 0.05\n",
    "Z_crit = H_0.ppf(1 - alpha)\n",
    "plt.axvline(Z_crit, color='black', linestyle=\"--\", lw=2)\n",
    "\n",
    "xq_u = np.linspace(Z_crit, 3.5)\n",
    "yq_u = H_0.pdf(xq_u)\n",
    "plt.fill_between(xq_u, 0, yq_u, color='blue', alpha=0.3)\n",
    "plt.text( Z_crit*1.3, 0.05, alpha, color='blue', fontsize=16)\n",
    "\n",
    "beta = H_1.cdf(Z_crit)\n",
    "\n",
    "xq_d = np.linspace(-0.5, Z_crit)\n",
    "yq_d = H_1.pdf(xq_d)\n",
    "plt.fill_between(xq_d, 0, yq_d, color='red', alpha=0.3)\n",
    "plt.text( Z_crit - 1, 0.1, round(beta, 2), color='red', fontsize=16)\n",
    "\n",
    "plt.xlabel('$x$', fontsize=20)\n",
    "plt.ylabel(r'Probability', fontsize=20);"
   ]
  },
  {
   "cell_type": "markdown",
   "id": "e8d5d061-9194-4d07-be3a-b99458ca543e",
   "metadata": {},
   "source": [
    "# Домашнее задание <a class=\"anchor\" id=\"HW\"></a>"
   ]
  },
  {
   "cell_type": "markdown",
   "id": "2665affd-8539-4c95-921b-701e4e6624e4",
   "metadata": {},
   "source": [
    "__Упражнение 1.__\n",
    "У женщин из среднего класса средний вес детей при рождении 3300 г, а у женщин, живущих за чертой бедности - 2800 г. 25 женщин, живущих за чертой бедности, участвовали в экспериментальной программе ведения беременности. Средний вес их детей составил 3075 г, стандартное отклонение 500 г. Эффективна ли названная программа?\n",
    ">_При решении задачи считать, что вес детей распределён нормально._\n",
    "\n",
    "__Упражнение 2.__\n",
    "Исследователь Андрей считает, что аварии в шахтах Великобритании происходят с интенсивностью $3$ штуки за год. Проверьте на $5\\%$ уровне значимости гипотезу об этом.\n",
    "\n",
    ">_Если выборка не распределена нормально, то использовать асимптотический критерий_\n",
    "\n",
    "__Упражнение 3.__\n",
    "Есть данные (seattle.csv) о продажной стоимости недвижимости в Сиэтле для 50 сделок в 2001 году и 50 в 2002. Изменились ли в среднем цены?\n",
    "\n",
    "__Упражнение 4.__\n",
    "В таблице ADHD.csv данные о том, как 24 ребёнка прошли тест на способность к подавлению импульсивных поведенческих реакций после недели приёма метилфенидата (первый столбец) и после недели приёма плацебо (второй столбец). Каков эффект препарата?\n",
    "\n",
    ">_Чем больше балл, полученный ребёнком, тем лучше, то есть, говорит о пользе терапии_\n",
    "\n",
    "__Упражнение 5.__\n",
    "Вашему вниманию представлены результаты прыжков в длину Петра Егорова на двух соревнованиях. На первых среди болельщиц присутствовала Аня Иванова (его первая любовь). На вторых Аня среди болельщиц не присутствовала. Проверьте гипотезу, состоящую в том, что отсуствие Ани позволяет Васе лучше сконцентрировтаься и прыгать с большей точностью (меньшим разбросом значений).\n",
    "\n",
    "first  = [1.83, 1.64, 2.27, 1.78, 1.89, 2.33, 1.61, 2.31]  \n",
    "second = [2.05, 1.07, 1.59, 1.96, 1.29, 1.52, 1.18, 1.47]"
   ]
  },
  {
   "cell_type": "code",
   "execution_count": null,
   "id": "1653d9b4-bed6-47d0-ae3e-fb769f78f5c4",
   "metadata": {},
   "outputs": [],
   "source": []
  }
 ],
 "metadata": {
  "kernelspec": {
   "display_name": "Python 3 (ipykernel)",
   "language": "python",
   "name": "python3"
  },
  "language_info": {
   "codemirror_mode": {
    "name": "ipython",
    "version": 3
   },
   "file_extension": ".py",
   "mimetype": "text/x-python",
   "name": "python",
   "nbconvert_exporter": "python",
   "pygments_lexer": "ipython3",
   "version": "3.9.6"
  }
 },
 "nbformat": 4,
 "nbformat_minor": 5
}
